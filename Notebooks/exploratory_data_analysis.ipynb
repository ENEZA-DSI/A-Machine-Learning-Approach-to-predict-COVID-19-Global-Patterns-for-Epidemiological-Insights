{
  "nbformat": 4,
  "nbformat_minor": 0,
  "metadata": {
    "colab": {
      "provenance": []
    },
    "kernelspec": {
      "name": "python3",
      "display_name": "Python 3"
    },
    "language_info": {
      "name": "python"
    }
  },
  "cells": [
    {
      "cell_type": "code",
      "execution_count": null,
      "metadata": {
        "id": "Y4T-TgIkMQUs"
      },
      "outputs": [],
      "source": []
    },
    {
      "cell_type": "code",
      "source": [
        "from google.colab import drive\n",
        "drive.mount('/content/drive')\n",
        "import pandas as pd"
      ],
      "metadata": {
        "id": "yrTda45vL3Gm",
        "colab": {
          "base_uri": "https://localhost:8080/"
        },
        "outputId": "4b8768a1-e964-4eaa-d077-da196f6ba9ff"
      },
      "execution_count": null,
      "outputs": [
        {
          "output_type": "stream",
          "name": "stdout",
          "text": [
            "Drive already mounted at /content/drive; to attempt to forcibly remount, call drive.mount(\"/content/drive\", force_remount=True).\n"
          ]
        }
      ]
    },
    {
      "cell_type": "code",
      "source": [
        "df_filtered = pd.read_excel('/content/drive/MyDrive/owid-covid-data_Filtered.xlsx')"
      ],
      "metadata": {
        "id": "cd2qGOe9MfKk"
      },
      "execution_count": null,
      "outputs": []
    },
    {
      "cell_type": "code",
      "source": [
        "missing_counts = df_filtered.isna().groupby(df_filtered['location']).sum().sum(axis=1)"
      ],
      "metadata": {
        "id": "wWQFEBTQ4oKL"
      },
      "execution_count": null,
      "outputs": []
    },
    {
      "cell_type": "code",
      "source": [
        "missing_counts.sort_values()"
      ],
      "metadata": {
        "id": "36PZ0MyN4u1J",
        "colab": {
          "base_uri": "https://localhost:8080/",
          "height": 335
        },
        "outputId": "0055617b-49de-4238-dfe2-8903aae289b9"
      },
      "execution_count": null,
      "outputs": [
        {
          "output_type": "execute_result",
          "data": {
            "text/plain": [
              "location\n",
              "Czechia         24759\n",
              "Italy           26030\n",
              "Malaysia        26252\n",
              "Canada          32340\n",
              "South Africa    32865\n",
              "Chile           34362\n",
              "Australia       39105\n",
              "dtype: int64"
            ],
            "text/html": [
              "<div>\n",
              "<style scoped>\n",
              "    .dataframe tbody tr th:only-of-type {\n",
              "        vertical-align: middle;\n",
              "    }\n",
              "\n",
              "    .dataframe tbody tr th {\n",
              "        vertical-align: top;\n",
              "    }\n",
              "\n",
              "    .dataframe thead th {\n",
              "        text-align: right;\n",
              "    }\n",
              "</style>\n",
              "<table border=\"1\" class=\"dataframe\">\n",
              "  <thead>\n",
              "    <tr style=\"text-align: right;\">\n",
              "      <th></th>\n",
              "      <th>0</th>\n",
              "    </tr>\n",
              "    <tr>\n",
              "      <th>location</th>\n",
              "      <th></th>\n",
              "    </tr>\n",
              "  </thead>\n",
              "  <tbody>\n",
              "    <tr>\n",
              "      <th>Czechia</th>\n",
              "      <td>24759</td>\n",
              "    </tr>\n",
              "    <tr>\n",
              "      <th>Italy</th>\n",
              "      <td>26030</td>\n",
              "    </tr>\n",
              "    <tr>\n",
              "      <th>Malaysia</th>\n",
              "      <td>26252</td>\n",
              "    </tr>\n",
              "    <tr>\n",
              "      <th>Canada</th>\n",
              "      <td>32340</td>\n",
              "    </tr>\n",
              "    <tr>\n",
              "      <th>South Africa</th>\n",
              "      <td>32865</td>\n",
              "    </tr>\n",
              "    <tr>\n",
              "      <th>Chile</th>\n",
              "      <td>34362</td>\n",
              "    </tr>\n",
              "    <tr>\n",
              "      <th>Australia</th>\n",
              "      <td>39105</td>\n",
              "    </tr>\n",
              "  </tbody>\n",
              "</table>\n",
              "</div><br><label><b>dtype:</b> int64</label>"
            ]
          },
          "metadata": {},
          "execution_count": 7
        }
      ]
    },
    {
      "cell_type": "code",
      "source": [
        "df_filtered['date'] = pd.to_datetime(df_filtered['date'])\n",
        "df_filtered = df_filtered.sort_values('date')\n",
        "\n",
        "#Set Generation interval (e.g. 5 days)\n",
        "tau = 5\n",
        "\n",
        "#shift new cases by tau days to estimate Rt\n",
        "df_filtered['shifted_cases']= df_filtered['new_cases'].shift(tau)\n",
        "\n",
        "#Calculate Rt.\n",
        "df_filtered['reproduction_rate'] = df_filtered['new_cases'] / df_filtered['shifted_cases']\n",
        "\n",
        "df_filtered['reproduction_rate_smoothed'] = df_filtered['reproduction_rate'].rolling(window=7).mean()\n",
        "\n",
        "#View the result\n",
        "print(df_filtered[['date', 'new_cases', 'reproduction_rate', 'reproduction_rate_smoothed']].dropna())"
      ],
      "metadata": {
        "id": "r7gSE_jR45cu",
        "colab": {
          "base_uri": "https://localhost:8080/"
        },
        "outputId": "be054779-0e42-4fbd-c163-18f47a12a423"
      },
      "execution_count": null,
      "outputs": [
        {
          "output_type": "stream",
          "name": "stdout",
          "text": [
            "            date  new_cases  reproduction_rate  reproduction_rate_smoothed\n",
            "64    2020-03-09        0.0                0.0                   13.203782\n",
            "3429  2020-03-16        0.0                0.0                    0.812540\n",
            "10143 2020-03-23        0.0                0.0                    0.034366\n",
            "85    2020-03-30        0.0                0.0                    0.208908\n",
            "6809  2020-04-06        0.0                0.0                    0.284736\n",
            "...          ...        ...                ...                         ...\n",
            "9960  2024-04-22        0.0                0.0                   52.761279\n",
            "8293  2024-04-29        0.0                0.0                    0.032685\n",
            "4941  2024-05-06        0.0                0.0                    4.462695\n",
            "3264  2024-05-13        0.0                0.0                  322.531520\n",
            "11662 2024-05-20        0.0                0.0                    0.002652\n",
            "\n",
            "[177 rows x 4 columns]\n"
          ]
        }
      ]
    },
    {
      "cell_type": "code",
      "source": [
        "df_filtered.to_excel('owid-covid-data_Filtered-mod.xlsx')"
      ],
      "metadata": {
        "id": "fvb8Gk5-6ecs"
      },
      "execution_count": null,
      "outputs": []
    },
    {
      "cell_type": "code",
      "source": [
        "import pandas as pd\n",
        "\n",
        "#Load Excel Data\n",
        "df_reproduction_rate = pd.read_excel('/content/drive/MyDrive/owid-covid-data_Filtered.xlsx')\n",
        "df_reproduction_rate['new_cases'] = df_reproduction_rate['new_cases'].fillna(0) # Fill missing with 0 or use interpolation\n",
        "\n"
      ],
      "metadata": {
        "id": "ZWmmmqTP67E8"
      },
      "execution_count": null,
      "outputs": []
    },
    {
      "cell_type": "code",
      "source": [
        "import numpy as np\n",
        "from scipy.stats import gamma\n",
        "\n",
        "# Shows the difference between the time an infector shows symptoms and the onset of symptoms in the person they infected.\n",
        "def discretized_serial_interval(mean_si=5, std_si=2, max_days=15):\n",
        "  shape = (mean_si/std_si)**2\n",
        "  scale = (std_si**2)/mean_si\n",
        "  days = np.arange(1, max_days + 1)\n",
        "  probs = gamma.pdf(days, a=shape, scale=scale)\n",
        "  return probs/probs.sum()"
      ],
      "metadata": {
        "id": "ruBiQHd9EazP"
      },
      "execution_count": null,
      "outputs": []
    },
    {
      "cell_type": "code",
      "source": [
        "def estimate_Rt(incidence, si_weights):\n",
        "  Rt_values = [np.nan] * len(incidence)\n",
        "  max_lag = len(si_weights)\n",
        "\n",
        "  for t in range (max_lag, len(incidence)):\n",
        "    past_infectivity = 0\n",
        "    for tau in range (1, max_lag + 1):\n",
        "      past_infectivity += incidence[t - tau] * si_weights[tau - 1]\n",
        "    if past_infectivity > 0:\n",
        "      Rt_values[t]= incidence[t]/past_infectivity\n",
        "    else:\n",
        "      Rt_values[t] = np.nan\n",
        "  return Rt_values"
      ],
      "metadata": {
        "id": "CCEdEjFnFCMg"
      },
      "execution_count": null,
      "outputs": []
    },
    {
      "cell_type": "code",
      "source": [
        "incidence = df_reproduction_rate['new_cases'].values\n",
        "\n",
        "si_weights = discretized_serial_interval()\n",
        "\n",
        "df_reproduction_rate['reproduction_rate'] = estimate_Rt(incidence, si_weights)"
      ],
      "metadata": {
        "id": "E118MIM8HCc1"
      },
      "execution_count": null,
      "outputs": []
    },
    {
      "cell_type": "code",
      "source": [
        "df_reproduction_rate.to_excel('with_Rt_output.xlsx', index = False)\n",
        "\n",
        "#Optional : Plot\n",
        "import matplotlib.pyplot as plt\n",
        "\n",
        "plt.figure(figsize=(10, 5))\n",
        "plt.plot(df_reproduction_rate['date'], df_reproduction_rate['reproduction_rate'], label='Observed')\n",
        "plt.axhline(y=1, color='red', linestyle='--', label='Rt = 1 threshold')\n",
        "plt.xlabel('Date')\n",
        "plt.ylabel('Rt')\n",
        "plt.title('Rt Estimation')\n",
        "plt.legend()\n",
        "plt.show()"
      ],
      "metadata": {
        "colab": {
          "base_uri": "https://localhost:8080/",
          "height": 487
        },
        "id": "yks9B0xAFpws",
        "outputId": "a59ee744-a6d2-40d6-c437-d71da376ec5a"
      },
      "execution_count": null,
      "outputs": [
        {
          "output_type": "display_data",
          "data": {
            "text/plain": [
              "<Figure size 1000x500 with 1 Axes>"
            ],
            "image/png": "[encoded data removed]"
          },
          "metadata": {}
        }
      ]
    },
    {
      "cell_type": "code",
      "source": [
        "import pandas as pd\n",
        "\n",
        "df = pd.read_excel('/content/drive/MyDrive/owid-covid-data_Filtered.xlsx')\n",
        "\n",
        "missing_counts = df.isna().groupby(df['location']).sum().sum(axis=1)"
      ],
      "metadata": {
        "id": "NHtlZsnXLtCD"
      },
      "execution_count": null,
      "outputs": []
    },
    {
      "cell_type": "code",
      "source": [
        "missing_counts"
      ],
      "metadata": {
        "colab": {
          "base_uri": "https://localhost:8080/",
          "height": 335
        },
        "id": "HqnS6muIL2BQ",
        "outputId": "9dfa3928-3802-4708-eb9d-3f6502c3bb87"
      },
      "execution_count": null,
      "outputs": [
        {
          "output_type": "execute_result",
          "data": {
            "text/plain": [
              "location\n",
              "Australia       39105\n",
              "Canada          32340\n",
              "Chile           34362\n",
              "Czechia         24759\n",
              "Italy           26030\n",
              "Malaysia        26252\n",
              "South Africa    32865\n",
              "dtype: int64"
            ],
            "text/html": [
              "<div>\n",
              "<style scoped>\n",
              "    .dataframe tbody tr th:only-of-type {\n",
              "        vertical-align: middle;\n",
              "    }\n",
              "\n",
              "    .dataframe tbody tr th {\n",
              "        vertical-align: top;\n",
              "    }\n",
              "\n",
              "    .dataframe thead th {\n",
              "        text-align: right;\n",
              "    }\n",
              "</style>\n",
              "<table border=\"1\" class=\"dataframe\">\n",
              "  <thead>\n",
              "    <tr style=\"text-align: right;\">\n",
              "      <th></th>\n",
              "      <th>0</th>\n",
              "    </tr>\n",
              "    <tr>\n",
              "      <th>location</th>\n",
              "      <th></th>\n",
              "    </tr>\n",
              "  </thead>\n",
              "  <tbody>\n",
              "    <tr>\n",
              "      <th>Australia</th>\n",
              "      <td>39105</td>\n",
              "    </tr>\n",
              "    <tr>\n",
              "      <th>Canada</th>\n",
              "      <td>32340</td>\n",
              "    </tr>\n",
              "    <tr>\n",
              "      <th>Chile</th>\n",
              "      <td>34362</td>\n",
              "    </tr>\n",
              "    <tr>\n",
              "      <th>Czechia</th>\n",
              "      <td>24759</td>\n",
              "    </tr>\n",
              "    <tr>\n",
              "      <th>Italy</th>\n",
              "      <td>26030</td>\n",
              "    </tr>\n",
              "    <tr>\n",
              "      <th>Malaysia</th>\n",
              "      <td>26252</td>\n",
              "    </tr>\n",
              "    <tr>\n",
              "      <th>South Africa</th>\n",
              "      <td>32865</td>\n",
              "    </tr>\n",
              "  </tbody>\n",
              "</table>\n",
              "</div><br><label><b>dtype:</b> int64</label>"
            ]
          },
          "metadata": {},
          "execution_count": 16
        }
      ]
    },
    {
      "cell_type": "code",
      "source": [
        "missing_counts.sort_values()"
      ],
      "metadata": {
        "colab": {
          "base_uri": "https://localhost:8080/",
          "height": 335
        },
        "id": "NupfzMDOMFGr",
        "outputId": "84ac04f2-013b-4e9d-91ff-4e81f514b51c"
      },
      "execution_count": null,
      "outputs": [
        {
          "output_type": "execute_result",
          "data": {
            "text/plain": [
              "location\n",
              "Czechia         24759\n",
              "Italy           26030\n",
              "Malaysia        26252\n",
              "Canada          32340\n",
              "South Africa    32865\n",
              "Chile           34362\n",
              "Australia       39105\n",
              "dtype: int64"
            ],
            "text/html": [
              "<div>\n",
              "<style scoped>\n",
              "    .dataframe tbody tr th:only-of-type {\n",
              "        vertical-align: middle;\n",
              "    }\n",
              "\n",
              "    .dataframe tbody tr th {\n",
              "        vertical-align: top;\n",
              "    }\n",
              "\n",
              "    .dataframe thead th {\n",
              "        text-align: right;\n",
              "    }\n",
              "</style>\n",
              "<table border=\"1\" class=\"dataframe\">\n",
              "  <thead>\n",
              "    <tr style=\"text-align: right;\">\n",
              "      <th></th>\n",
              "      <th>0</th>\n",
              "    </tr>\n",
              "    <tr>\n",
              "      <th>location</th>\n",
              "      <th></th>\n",
              "    </tr>\n",
              "  </thead>\n",
              "  <tbody>\n",
              "    <tr>\n",
              "      <th>Czechia</th>\n",
              "      <td>24759</td>\n",
              "    </tr>\n",
              "    <tr>\n",
              "      <th>Italy</th>\n",
              "      <td>26030</td>\n",
              "    </tr>\n",
              "    <tr>\n",
              "      <th>Malaysia</th>\n",
              "      <td>26252</td>\n",
              "    </tr>\n",
              "    <tr>\n",
              "      <th>Canada</th>\n",
              "      <td>32340</td>\n",
              "    </tr>\n",
              "    <tr>\n",
              "      <th>South Africa</th>\n",
              "      <td>32865</td>\n",
              "    </tr>\n",
              "    <tr>\n",
              "      <th>Chile</th>\n",
              "      <td>34362</td>\n",
              "    </tr>\n",
              "    <tr>\n",
              "      <th>Australia</th>\n",
              "      <td>39105</td>\n",
              "    </tr>\n",
              "  </tbody>\n",
              "</table>\n",
              "</div><br><label><b>dtype:</b> int64</label>"
            ]
          },
          "metadata": {},
          "execution_count": 17
        }
      ]
    },
    {
      "cell_type": "code",
      "source": [
        "import pandas as pd\n",
        "import numpy as np\n",
        "from sklearn.impute import KNNImputer\n",
        "from sklearn.model_selection import train_test_split\n",
        "from sklearn.preprocessing import StandardScaler\n",
        "from sklearn.neighbors import KNeighborsRegressor\n",
        "from sklearn.metrics import mean_squared_error, r2_score\n",
        "import matplotlib.pyplot as plt\n",
        "\n",
        "# -----------------------------------------------\n",
        "# 1. Load your dataset\n",
        "# -----------------------------------------------\n",
        "# Replace with your actual data source\n",
        "df = pd.read_excel('/content/drive/MyDrive/owid-covid-data_Filtered.xlsx')\n",
        "\n",
        "# Example: Preview data\n",
        "print(df[[\"new_cases\", \"hosp_patients\", \"hosp_patients_per_million\",\n",
        "          \"weekly_hosp_admissions\", \"reproduction_rate\"]].head())\n",
        "\n",
        "# -----------------------------------------------\n",
        "# 2. Select Features & Target\n",
        "# -----------------------------------------------\n",
        "features = [\"new_cases\", \"hosp_patients\", \"hosp_patients_per_million\", \"weekly_hosp_admissions\"]\n",
        "target = \"reproduction_rate\"\n",
        "\n",
        "# Subset the data\n",
        "data = df[features + [target]]\n",
        "\n",
        "# -----------------------------------------------\n",
        "# 3. Impute Missing Values (KNNImputer)\n",
        "# -----------------------------------------------\n",
        "# KNNImputer fills missing values using similar rows (neighbors)\n",
        "imputer = KNNImputer(n_neighbors=5)\n",
        "data_imputed = pd.DataFrame(imputer.fit_transform(data), columns=data.columns)\n",
        "\n",
        "# -----------------------------------------------\n",
        "# 4. Normalize Features\n",
        "# -----------------------------------------------\n",
        "scaler = StandardScaler()\n",
        "X = scaler.fit_transform(data_imputed[features])\n",
        "y = data_imputed[target]\n",
        "\n",
        "# -----------------------------------------------\n",
        "# 5. Train/Test Split\n",
        "# -----------------------------------------------\n",
        "X_train, X_test, y_train, y_test = train_test_split(X, y, test_size=0.2, random_state=42)\n",
        "\n",
        "# -----------------------------------------------\n",
        "# 6. Train KNN Regressor\n",
        "# -----------------------------------------------\n",
        "knn = KNeighborsRegressor(n_neighbors=5)\n",
        "knn.fit(X_train, y_train)\n",
        "y_pred = knn.predict(X_test)\n",
        "\n",
        "# -----------------------------------------------\n",
        "# 7. Evaluation\n",
        "# -----------------------------------------------\n",
        "print(\"R² Score:\", r2_score(y_test, y_pred))\n",
        "print(\"y_test shape:\", y_test.shape)\n",
        "print(\"y_pred shape:\", y_pred.shape)\n",
        "\n",
        "# -----------------------------------------------\n",
        "# 8. Optional: Plot Actual vs Predicted\n",
        "# -----------------------------------------------\n",
        "plt.figure(figsize=(8,5))\n",
        "plt.scatter(y_test, y_pred, alpha=0.6)\n",
        "plt.plot([min(y_test), max(y_test)], [min(y_test), max(y_test)], 'r--')\n",
        "plt.xlabel(\"Actual R₀\")\n",
        "plt.ylabel(\"Predicted R₀\")\n",
        "plt.title(\"KNN Regression: Actual vs Predicted Reproduction Rate\")\n",
        "plt.grid(True)\n",
        "plt.show()\n"
      ],
      "metadata": {
        "colab": {
          "base_uri": "https://localhost:8080/",
          "height": 765
        },
        "id": "UVC_-dXJMI_m",
        "outputId": "f148f22d-8f78-4118-982c-c9f4133a0714"
      },
      "execution_count": null,
      "outputs": [
        {
          "output_type": "stream",
          "name": "stdout",
          "text": [
            "   new_cases  hosp_patients  hosp_patients_per_million  \\\n",
            "0        0.0            NaN                        NaN   \n",
            "1        0.0            NaN                        NaN   \n",
            "2        0.0            NaN                        NaN   \n",
            "3        0.0            NaN                        NaN   \n",
            "4        0.0            NaN                        NaN   \n",
            "\n",
            "   weekly_hosp_admissions  reproduction_rate  \n",
            "0                     NaN                NaN  \n",
            "1                     NaN                NaN  \n",
            "2                     NaN                NaN  \n",
            "3                     NaN                NaN  \n",
            "4                     NaN                NaN  \n",
            "R² Score: 0.4697337781322778\n",
            "y_test shape: (2348,)\n",
            "y_pred shape: (2348,)\n"
          ]
        },
        {
          "output_type": "display_data",
          "data": {
            "text/plain": [
              "<Figure size 800x500 with 1 Axes>"
            ],
            "image/png": "[encoded data removed]"
          },
          "metadata": {}
        }
      ]
    },
    {
      "cell_type": "code",
      "source": [
        "import pandas as pd\n",
        "\n",
        "# Reset index before splitting\n",
        "data_imputed = data_imputed.reset_index(drop=True)\n",
        "\n",
        "# Split again with return_index=True\n",
        "from sklearn.model_selection import train_test_split\n",
        "X = data_imputed[features]\n",
        "y = data_imputed[\"reproduction_rate\"]\n",
        "X_train, X_test, y_train, y_test = train_test_split(X, y, test_size=0.2, random_state=42)\n",
        "\n",
        "# Get indices of test set\n",
        "test_indices = X_test.index\n",
        "\n",
        "# Add predictions back\n",
        "data_imputed.loc[test_indices, \"predicted_R0\"] = y_pred\n"
      ],
      "metadata": {
        "id": "HmmUUq0cPD5k"
      },
      "execution_count": null,
      "outputs": []
    },
    {
      "cell_type": "code",
      "source": [
        "# OR: Save the full imputed dataset with predictions\n",
        "data_imputed.to_excel(\"predicted_R0_full_dataset.xlsx\", index=False)\n"
      ],
      "metadata": {
        "id": "O6ljf1fiPsyr"
      },
      "execution_count": null,
      "outputs": []
    },
    {
      "cell_type": "code",
      "source": [
        "import pandas as pd\n",
        "from sklearn.impute import KNNImputer\n",
        "\n",
        "# Load your Excel file\n",
        "df = pd.read_excel(\"/content/owid-covid-data_latest_update.xlsx\")\n",
        "\n",
        "# Columns to use for imputation (adjusted for usefulness and availability)\n",
        "features = [\n",
        "    'new_cases', 'new_cases_smoothed', 'total_deaths', 'new_deaths',\n",
        "    'total_cases_per_million', 'new_cases_per_million',\n",
        "    'hosp_patients', 'hosp_patients_per_million', 'weekly_hosp_admissions',\n",
        "    'weekly_hosp_admissions_per_million', 'stringency_index',\n",
        "    'population_density', 'median_age', 'gdp_per_capita',\n",
        "    'diabetes_prevalence', 'hospital_beds_per_thousand',\n",
        "    'life_expectancy', 'human_development_index', 'population',\n",
        "    'reproduction_rate', 'icu_patients_per_million'\n",
        "]\n",
        "\n",
        "# Subset and apply imputer\n",
        "df_impute = df[features].copy()\n",
        "imputer = KNNImputer(n_neighbors=5)\n",
        "imputed = imputer.fit_transform(df_impute)\n",
        "\n",
        "# Replace only the missing values\n",
        "df_imputed = pd.DataFrame(imputed, columns=features)\n",
        "df['icu_patients_per_million'] = df['icu_patients_per_million'].combine_first(df_imputed['icu_patients_per_million'])\n",
        "\n",
        "# Save to Excel\n",
        "df.to_excel(\"owid-covid-data_with_latest_update.xlsx\", index=False)\n",
        "print(\"✅ Saved to 'owid-covid-data_with_latest_update.xlsx'\")\n"
      ],
      "metadata": {
        "colab": {
          "base_uri": "https://localhost:8080/",
          "height": 373
        },
        "id": "sUkoSh-u_-f5",
        "outputId": "e60a0d4b-1eda-4877-836f-5436da4edebb"
      },
      "execution_count": null,
      "outputs": [
        {
          "output_type": "error",
          "ename": "FileNotFoundError",
          "evalue": "[Errno 2] No such file or directory: '/content/owid-covid-data_latest_update.xlsx'",
          "traceback": [
            "\u001b[0;31m---------------------------------------------------------------------------\u001b[0m",
            "\u001b[0;31mFileNotFoundError\u001b[0m                         Traceback (most recent call last)",
            "\u001b[0;32m/tmp/ipython-input-21-2747839555.py\u001b[0m in \u001b[0;36m<cell line: 0>\u001b[0;34m()\u001b[0m\n\u001b[1;32m      3\u001b[0m \u001b[0;34m\u001b[0m\u001b[0m\n\u001b[1;32m      4\u001b[0m \u001b[0;31m# Load your Excel file\u001b[0m\u001b[0;34m\u001b[0m\u001b[0;34m\u001b[0m\u001b[0m\n\u001b[0;32m----> 5\u001b[0;31m \u001b[0mdf\u001b[0m \u001b[0;34m=\u001b[0m \u001b[0mpd\u001b[0m\u001b[0;34m.\u001b[0m\u001b[0mread_excel\u001b[0m\u001b[0;34m(\u001b[0m\u001b[0;34m\"/content/owid-covid-data_latest_update.xlsx\"\u001b[0m\u001b[0;34m)\u001b[0m\u001b[0;34m\u001b[0m\u001b[0;34m\u001b[0m\u001b[0m\n\u001b[0m\u001b[1;32m      6\u001b[0m \u001b[0;34m\u001b[0m\u001b[0m\n\u001b[1;32m      7\u001b[0m \u001b[0;31m# Columns to use for imputation (adjusted for usefulness and availability)\u001b[0m\u001b[0;34m\u001b[0m\u001b[0;34m\u001b[0m\u001b[0m\n",
            "\u001b[0;32m/usr/local/lib/python3.11/dist-packages/pandas/io/excel/_base.py\u001b[0m in \u001b[0;36mread_excel\u001b[0;34m(io, sheet_name, header, names, index_col, usecols, dtype, engine, converters, true_values, false_values, skiprows, nrows, na_values, keep_default_na, na_filter, verbose, parse_dates, date_parser, date_format, thousands, decimal, comment, skipfooter, storage_options, dtype_backend, engine_kwargs)\u001b[0m\n\u001b[1;32m    493\u001b[0m     \u001b[0;32mif\u001b[0m \u001b[0;32mnot\u001b[0m \u001b[0misinstance\u001b[0m\u001b[0;34m(\u001b[0m\u001b[0mio\u001b[0m\u001b[0;34m,\u001b[0m \u001b[0mExcelFile\u001b[0m\u001b[0;34m)\u001b[0m\u001b[0;34m:\u001b[0m\u001b[0;34m\u001b[0m\u001b[0;34m\u001b[0m\u001b[0m\n\u001b[1;32m    494\u001b[0m         \u001b[0mshould_close\u001b[0m \u001b[0;34m=\u001b[0m \u001b[0;32mTrue\u001b[0m\u001b[0;34m\u001b[0m\u001b[0;34m\u001b[0m\u001b[0m\n\u001b[0;32m--> 495\u001b[0;31m         io = ExcelFile(\n\u001b[0m\u001b[1;32m    496\u001b[0m             \u001b[0mio\u001b[0m\u001b[0;34m,\u001b[0m\u001b[0;34m\u001b[0m\u001b[0;34m\u001b[0m\u001b[0m\n\u001b[1;32m    497\u001b[0m             \u001b[0mstorage_options\u001b[0m\u001b[0;34m=\u001b[0m\u001b[0mstorage_options\u001b[0m\u001b[0;34m,\u001b[0m\u001b[0;34m\u001b[0m\u001b[0;34m\u001b[0m\u001b[0m\n",
            "\u001b[0;32m/usr/local/lib/python3.11/dist-packages/pandas/io/excel/_base.py\u001b[0m in \u001b[0;36m__init__\u001b[0;34m(self, path_or_buffer, engine, storage_options, engine_kwargs)\u001b[0m\n\u001b[1;32m   1548\u001b[0m                 \u001b[0mext\u001b[0m \u001b[0;34m=\u001b[0m \u001b[0;34m\"xls\"\u001b[0m\u001b[0;34m\u001b[0m\u001b[0;34m\u001b[0m\u001b[0m\n\u001b[1;32m   1549\u001b[0m             \u001b[0;32melse\u001b[0m\u001b[0;34m:\u001b[0m\u001b[0;34m\u001b[0m\u001b[0;34m\u001b[0m\u001b[0m\n\u001b[0;32m-> 1550\u001b[0;31m                 ext = inspect_excel_format(\n\u001b[0m\u001b[1;32m   1551\u001b[0m                     \u001b[0mcontent_or_path\u001b[0m\u001b[0;34m=\u001b[0m\u001b[0mpath_or_buffer\u001b[0m\u001b[0;34m,\u001b[0m \u001b[0mstorage_options\u001b[0m\u001b[0;34m=\u001b[0m\u001b[0mstorage_options\u001b[0m\u001b[0;34m\u001b[0m\u001b[0;34m\u001b[0m\u001b[0m\n\u001b[1;32m   1552\u001b[0m                 )\n",
            "\u001b[0;32m/usr/local/lib/python3.11/dist-packages/pandas/io/excel/_base.py\u001b[0m in \u001b[0;36minspect_excel_format\u001b[0;34m(content_or_path, storage_options)\u001b[0m\n\u001b[1;32m   1400\u001b[0m         \u001b[0mcontent_or_path\u001b[0m \u001b[0;34m=\u001b[0m \u001b[0mBytesIO\u001b[0m\u001b[0;34m(\u001b[0m\u001b[0mcontent_or_path\u001b[0m\u001b[0;34m)\u001b[0m\u001b[0;34m\u001b[0m\u001b[0;34m\u001b[0m\u001b[0m\n\u001b[1;32m   1401\u001b[0m \u001b[0;34m\u001b[0m\u001b[0m\n\u001b[0;32m-> 1402\u001b[0;31m     with get_handle(\n\u001b[0m\u001b[1;32m   1403\u001b[0m         \u001b[0mcontent_or_path\u001b[0m\u001b[0;34m,\u001b[0m \u001b[0;34m\"rb\"\u001b[0m\u001b[0;34m,\u001b[0m \u001b[0mstorage_options\u001b[0m\u001b[0;34m=\u001b[0m\u001b[0mstorage_options\u001b[0m\u001b[0;34m,\u001b[0m \u001b[0mis_text\u001b[0m\u001b[0;34m=\u001b[0m\u001b[0;32mFalse\u001b[0m\u001b[0;34m\u001b[0m\u001b[0;34m\u001b[0m\u001b[0m\n\u001b[1;32m   1404\u001b[0m     ) as handle:\n",
            "\u001b[0;32m/usr/local/lib/python3.11/dist-packages/pandas/io/common.py\u001b[0m in \u001b[0;36mget_handle\u001b[0;34m(path_or_buf, mode, encoding, compression, memory_map, is_text, errors, storage_options)\u001b[0m\n\u001b[1;32m    880\u001b[0m         \u001b[0;32melse\u001b[0m\u001b[0;34m:\u001b[0m\u001b[0;34m\u001b[0m\u001b[0;34m\u001b[0m\u001b[0m\n\u001b[1;32m    881\u001b[0m             \u001b[0;31m# Binary mode\u001b[0m\u001b[0;34m\u001b[0m\u001b[0;34m\u001b[0m\u001b[0m\n\u001b[0;32m--> 882\u001b[0;31m             \u001b[0mhandle\u001b[0m \u001b[0;34m=\u001b[0m \u001b[0mopen\u001b[0m\u001b[0;34m(\u001b[0m\u001b[0mhandle\u001b[0m\u001b[0;34m,\u001b[0m \u001b[0mioargs\u001b[0m\u001b[0;34m.\u001b[0m\u001b[0mmode\u001b[0m\u001b[0;34m)\u001b[0m\u001b[0;34m\u001b[0m\u001b[0;34m\u001b[0m\u001b[0m\n\u001b[0m\u001b[1;32m    883\u001b[0m         \u001b[0mhandles\u001b[0m\u001b[0;34m.\u001b[0m\u001b[0mappend\u001b[0m\u001b[0;34m(\u001b[0m\u001b[0mhandle\u001b[0m\u001b[0;34m)\u001b[0m\u001b[0;34m\u001b[0m\u001b[0;34m\u001b[0m\u001b[0m\n\u001b[1;32m    884\u001b[0m \u001b[0;34m\u001b[0m\u001b[0m\n",
            "\u001b[0;31mFileNotFoundError\u001b[0m: [Errno 2] No such file or directory: '/content/owid-covid-data_latest_update.xlsx'"
          ]
        }
      ]
    },
    {
      "cell_type": "code",
      "source": [
        "import matplotlib.pyplot as plt\n",
        "\n",
        "df_SouthAfrica = df[df['location']=='South Africa']\n",
        "df_Malaysia = df[df['location']=='Malaysia']\n",
        "df_Czechia = df[df['location']=='Czechia']\n",
        "df_Australia = df[df['location']=='Australia']\n",
        "df_Canada = df[df['location']=='Canada']\n",
        "df_Chile = df[df['location']=='Chile']\n",
        "\n",
        "plt.plot(df_SouthAfrica['date'], df_SouthAfrica['icu_patients_per_million'], color ='Yellow', label='South Africa')\n",
        "plt.plot(df_Malaysia['date'], df_Malaysia['icu_patients_per_million'], color ='Green', label='Malaysia')\n",
        "plt.plot(df_Czechia['date'], df_Czechia['icu_patients_per_million'], color ='Blue', label='Czechia')\n",
        "plt.plot(df_Australia['date'], df_Australia['icu_patients_per_million'], color ='Red', label='Australia')\n",
        "plt.plot(df_Canada['date'], df_Canada['icu_patients_per_million'], color ='Black', label='Canada')\n",
        "plt.plot(df_Chile['date'], df_Chile['icu_patients_per_million'], color = 'orange', label='Chile')\n",
        "\n",
        "plt.xlabel('Date')\n",
        "plt.ylabel('ICU Patients per Million')\n",
        "plt.title('ICU Patients per Million over Time by Location')\n",
        "plt.legend()\n",
        "plt.show()"
      ],
      "metadata": {
        "id": "19OeQAgzJ3Pl"
      },
      "execution_count": null,
      "outputs": []
    },
    {
      "cell_type": "code",
      "source": [
        "missing_counts = df.isna().groupby(df['location']).sum().sum(axis=1)\n",
        "missing_counts.sort_values()"
      ],
      "metadata": {
        "id": "AzjU-3y3KzW_"
      },
      "execution_count": null,
      "outputs": []
    },
    {
      "cell_type": "code",
      "source": [
        "plt.plot(df_SouthAfrica['date'], df_SouthAfrica['icu_patients'])"
      ],
      "metadata": {
        "id": "piST2kGVLHnV"
      },
      "execution_count": null,
      "outputs": []
    },
    {
      "cell_type": "code",
      "source": [
        "import matplotlib.pyplot as plt\n",
        "\n",
        "df_SouthAfrica = df[df['location']=='South Africa']\n",
        "df_Malaysia = df[df['location']=='Malaysia']\n",
        "df_Czechia = df[df['location']=='Czechia']\n",
        "df_Australia = df[df['location']=='Australia']\n",
        "df_Canada = df[df['location']=='Canada']\n",
        "df_Chile = df[df['location']=='Chile']\n",
        "\n",
        "plt.plot(df_SouthAfrica['date'], df_SouthAfrica['icu_patients'], color ='Yellow', label='South Africa')\n",
        "plt.plot(df_Malaysia['date'], df_Malaysia['icu_patients'], color ='Green', label='Malaysia')\n",
        "plt.plot(df_Czechia['date'], df_Czechia['icu_patients'], color ='Blue', label='Czechia')\n",
        "plt.plot(df_Australia['date'], df_Australia['icu_patients'], color ='Red', label='Australia')\n",
        "plt.plot(df_Canada['date'], df_Canada['icu_patients'], color ='Black', label='Canada')\n",
        "plt.plot(df_Chile['date'], df_Chile['icu_patients'], color = 'orange', label='Chile')\n",
        "\n",
        "plt.xlabel('Date')\n",
        "plt.ylabel('ICU Patients per Million')\n",
        "plt.title('ICU Patients per Million over Time by Location')\n",
        "plt.legend()\n",
        "plt.show()"
      ],
      "metadata": {
        "id": "cDG0mqeGLbRR"
      },
      "execution_count": null,
      "outputs": []
    },
    {
      "cell_type": "code",
      "source": [
        "# Impute ICU patients in the dataset\n",
        "import pandas as pd\n",
        "from sklearn.linear_model import LinearRegression\n",
        "from sklearn.model_selection import train_test_split\n",
        "from sklearn.metrics import mean_squared_error\n",
        "import numpy as np\n",
        "from sklearn.impute import KNNImputer # Import KNNImputer\n",
        "\n",
        "# Load the dataset\n",
        "df = pd.read_excel(\"/content/owid-covid-data_with_latest_update.xlsx\")\n",
        "\n",
        "# Drop non-numeric columns\n",
        "df = df.select_dtypes(include=['number'])\n",
        "\n",
        "# Choose features that may help predict ICU admissions\n",
        "features = [\n",
        "    'new_cases', 'new_deaths', 'hosp_patients', 'weekly_hosp_admissions',\n",
        "    'reproduction_rate', 'stringency_index', 'population', 'population_density',\n",
        "    'diabetes_prevalence', 'hospital_beds_per_thousand',\n",
        "    'life_expectancy', 'median_age', 'gdp_per_capita'\n",
        "]\n",
        "\n",
        "# Keep only available columns\n",
        "features = [col for col in features if col in df.columns and col != 'icu_patients']\n",
        "\n",
        "# Split rows with and without ICU data\n",
        "df_known = df[df['icu_patients'].notna()].copy()\n",
        "df_missing = df[df['icu_patients'].isna()].copy()\n",
        "\n",
        "# Remove rows with missing values in features for training\n",
        "df_known = df_known.dropna(subset=features)\n",
        "\n",
        "#Train regression model\n",
        "X_train = df_known[features]\n",
        "y_train = df_known['icu_patients']\n",
        "model = LinearRegression()\n",
        "model.fit(X_train, y_train)\n",
        "\n",
        "# Evaluate performance\n",
        "X_test = df_known[features]\n",
        "y_test = df_known['icu_patients']\n",
        "from math import sqrt\n",
        "rmse = sqrt(mean_squared_error(y_test, model.predict(X_test)))\n",
        "\n",
        "print(f\"✅ Model trained. RMSE on known data: {rmse:.2f} ICU patients\")\n",
        "\n",
        "#Predict and impute missing ICU values in df_missing\n",
        "X_missing = df_missing[features]\n",
        "\n",
        "# Impute missing values in X_missing\n",
        "imputer = KNNImputer(n_neighbors=5)\n",
        "X_missing_imputed = imputer.fit_transform(X_missing)\n",
        "X_missing_imputed_df = pd.DataFrame(X_missing_imputed, columns=features, index=X_missing.index)\n",
        "\n",
        "\n",
        "# Predict on the imputed missing data\n",
        "predicted_icu = model.predict(X_missing_imputed_df)\n",
        "\n",
        "# Impute the 'icu_patients' column in the original DataFrame\n",
        "df.loc[df['icu_patients'].isna(), 'icu_patients'] = predicted_icu\n",
        "\n",
        "\n",
        "# Save to Excel\n",
        "df.to_excel(\"owid-covid-data_with_icu_imputed.xlsx\", index=False)\n",
        "print(\"✅ File saved as 'owid-covid-data_with_icu_imputed.xlsx'\")"
      ],
      "metadata": {
        "id": "g-HUh2LhLnwB"
      },
      "execution_count": null,
      "outputs": []
    },
    {
      "cell_type": "code",
      "source": [
        "import pandas as pd\n",
        "import numpy as np\n",
        "from sklearn.ensemble import RandomForestRegressor\n",
        "from sklearn.impute import SimpleImputer\n",
        "from sklearn.model_selection import train_test_split\n",
        "\n",
        "# Load your dataset\n",
        "df = pd.read_excel(\"/content/owid-covid-data_with_latest_update.xlsx\")\n",
        "\n",
        "# 1. Drop all string and datetime columns to retain only usable numeric features\n",
        "df_numeric = df.select_dtypes(include=[np.number]).copy()\n",
        "\n",
        "# 2. Identify rows with and without ICU patient values\n",
        "df_with_icu = df_numeric[df_numeric['icu_patients'].notna()]\n",
        "df_missing_icu = df_numeric[df_numeric['icu_patients'].isna()]\n",
        "\n",
        "# 3. Select features (exclude target column)\n",
        "features = df_numeric.columns.drop('icu_patients')\n",
        "\n",
        "# 4. Impute missing feature values\n",
        "imputer = SimpleImputer(strategy=\"mean\")\n",
        "X_full = imputer.fit_transform(df_with_icu[features])\n",
        "y_full = df_with_icu['icu_patients']\n",
        "\n",
        "# 5. Train a fast, accurate model\n",
        "model = RandomForestRegressor(n_estimators=100, random_state=42)\n",
        "model.fit(X_full, y_full)\n",
        "\n",
        "# 6. Predict missing ICU patients\n",
        "X_missing = imputer.transform(df_missing_icu[features])\n",
        "icu_predicted = model.predict(X_missing)\n",
        "\n",
        "# 7. Ensure predictions are non-negative integers\n",
        "icu_predicted = np.maximum(icu_predicted, 0)  # eliminate negatives\n",
        "icu_predicted = np.round(icu_predicted).astype(int)  # round to integers\n",
        "\n",
        "# 8. Fill back into original dataframe\n",
        "df.loc[df['icu_patients'].isna(), 'icu_patients'] = icu_predicted\n",
        "\n",
        "# 9. Save to Excel\n",
        "df.to_excel(\"owid-covid-data_with_icu_predictions.xlsx\", index=False)\n",
        "print(\"✅ Saved updated file: 'owid-covid-data_with_icu_predictions.xlsx'\")\n"
      ],
      "metadata": {
        "id": "sh7rKL7qMSET"
      },
      "execution_count": null,
      "outputs": []
    },
    {
      "cell_type": "code",
      "source": [
        "import pandas as pd\n",
        "import numpy as np\n",
        "from sklearn.ensemble import RandomForestRegressor\n",
        "from sklearn.impute import SimpleImputer\n",
        "from sklearn.preprocessing import OrdinalEncoder\n",
        "from datetime import datetime\n",
        "\n",
        "# Load your dataset\n",
        "df = pd.read_excel(\"/content/owid-covid-data_with_latest_update.xlsx\")\n",
        "\n",
        "# 1. Convert date column to datetime if not already\n",
        "df['date'] = pd.to_datetime(df['date'], errors='coerce')\n",
        "\n",
        "# 2. Add numeric date (for trend modeling)\n",
        "df['date_ordinal'] = df['date'].map(datetime.toordinal)\n",
        "\n",
        "# 3. Drop non-numeric columns except 'location' (we'll handle it separately)\n",
        "keep_cols = df.select_dtypes(include=[np.number]).columns.tolist() + ['location']\n",
        "df = df[keep_cols]\n",
        "\n",
        "# 4. Track final predictions for merging\n",
        "df['icu_predicted'] = df['icu_patients']\n",
        "\n",
        "# 5. Prepare a loop per country\n",
        "countries = df['location'].dropna().unique()\n",
        "\n",
        "for country in countries:\n",
        "    sub_df = df[df['location'] == country]\n",
        "\n",
        "    # Must have some known ICU data to train\n",
        "    if sub_df['icu_patients'].notna().sum() < 10:\n",
        "        continue\n",
        "\n",
        "    # Features (drop ICU, include date_ordinal)\n",
        "    features = sub_df.columns.drop(['icu_patients', 'icu_predicted', 'location'])\n",
        "    df_train = sub_df[sub_df['icu_patients'].notna()]\n",
        "    df_missing = sub_df[sub_df['icu_patients'].isna()]\n",
        "\n",
        "    if df_missing.empty:\n",
        "        continue\n",
        "\n",
        "    # Impute missing feature values\n",
        "    imputer = SimpleImputer(strategy=\"mean\")\n",
        "    X_train = imputer.fit_transform(df_train[features])\n",
        "    y_train = df_train['icu_patients']\n",
        "    X_missing = imputer.transform(df_missing[features])\n",
        "\n",
        "    # Train model\n",
        "    model = RandomForestRegressor(n_estimators=100, random_state=42)\n",
        "    model.fit(X_train, y_train)\n",
        "\n",
        "    # Predict\n",
        "    y_pred = model.predict(X_missing)\n",
        "    y_pred = np.maximum(y_pred, 0)  # No negatives\n",
        "    y_pred = np.round(y_pred).astype(int)\n",
        "\n",
        "    # Fill into main df\n",
        "    df.loc[(df['location'] == country) & (df['icu_patients'].isna()), 'icu_predicted'] = y_pred\n",
        "\n",
        "# 6. Replace original ICU column with predicted where missing\n",
        "df['icu_patients'] = df['icu_patients'].combine_first(df['icu_predicted'])\n",
        "df = df.drop(columns=['icu_predicted'])\n",
        "\n",
        "# 7. Save to Excel\n",
        "df.to_excel(\"owid-covid-data_with_icu_predictions_realistic.xlsx\", index=False)\n",
        "print(\"✅ Saved: 'owid-covid-data_with_icu_predictions_realistic.xlsx'\")\n"
      ],
      "metadata": {
        "id": "NOg_-jSpPySB"
      },
      "execution_count": null,
      "outputs": []
    },
    {
      "cell_type": "code",
      "source": [
        "import pandas as pd\n",
        "import numpy as np\n",
        "from sklearn.ensemble import HistGradientBoostingRegressor\n",
        "from sklearn.model_selection import train_test_split\n",
        "from sklearn.metrics import mean_squared_error\n",
        "from sklearn.preprocessing import LabelEncoder\n",
        "\n",
        "# 1. Load your dataset\n",
        "df = pd.read_excel(\"/content/owid-covid-data_with_latest_update.xlsx\")\n",
        "\n",
        "# 2. Convert 'date' column to datetime if needed\n",
        "if df['date'].dtype == object:\n",
        "    df['date'] = pd.to_datetime(df['date'])\n",
        "\n",
        "# 3. Drop string-based columns (except 'location' and 'date')\n",
        "exclude_types = ['object', 'string']\n",
        "exclude_columns = df.select_dtypes(include=exclude_types).columns.difference(['location', 'date'])\n",
        "df = df.drop(columns=exclude_columns)\n",
        "\n",
        "# 4. Define features (all numeric columns except the target and 'location', 'date')\n",
        "all_features = df.select_dtypes(include=[np.number]).columns.difference(['icu_patients'])\n",
        "features = list(all_features)\n",
        "\n",
        "# 5. Prepare final dataframe for imputation\n",
        "df.sort_values(['location', 'date'], inplace=True)\n",
        "\n",
        "# 6. Initialize model\n",
        "model = HistGradientBoostingRegressor(random_state=42)\n",
        "\n",
        "# 7. Predict ICU patients per country\n",
        "df['icu_patients_predicted'] = df['icu_patients']  # start with original values\n",
        "\n",
        "for country in df['location'].unique():\n",
        "    sub = df[df['location'] == country].copy()\n",
        "\n",
        "    # Only proceed if there are known values to train on\n",
        "    known = sub[sub['icu_patients'].notna()]\n",
        "    unknown = sub[sub['icu_patients'].isna()]\n",
        "\n",
        "    if len(known) < 10 or len(unknown) == 0:\n",
        "        continue  # skip countries with insufficient data\n",
        "\n",
        "    X_train = known[features]\n",
        "    y_train = known['icu_patients']\n",
        "    X_pred = unknown[features]\n",
        "\n",
        "    # Remove any rows with missing values in features\n",
        "    X_train = X_train.dropna()\n",
        "    y_train = y_train.loc[X_train.index]\n",
        "    X_pred = X_pred.dropna()\n",
        "\n",
        "    if X_train.empty or X_pred.empty:\n",
        "        continue\n",
        "\n",
        "    model.fit(X_train, y_train)\n",
        "    y_pred = model.predict(X_pred)\n",
        "\n",
        "    # Round, clip, and update predictions\n",
        "    y_pred = np.round(np.clip(y_pred, 0, None)).astype(int)\n",
        "    df.loc[X_pred.index, 'icu_patients_predicted'] = y_pred\n",
        "\n",
        "# 8. Fill missing icu_patients\n",
        "df['icu_patients'] = df['icu_patients'].combine_first(df['icu_patients_predicted'])\n",
        "\n",
        "# 9. Drop helper column\n",
        "df = df.drop(columns=['icu_patients_predicted'])\n",
        "\n",
        "# 10. Save the final output\n",
        "df.to_excel(\"owid-covid-data_with_icu_patients_imputed.xlsx\", index=False)\n",
        "print(\"✅ File saved: 'owid-covid-data_with_icu_patients_imputed.xlsx'\")\n"
      ],
      "metadata": {
        "id": "awhw4esxRQOx"
      },
      "execution_count": null,
      "outputs": []
    },
    {
      "cell_type": "code",
      "source": [
        "import pandas as pd\n",
        "import numpy as np\n",
        "from sklearn.ensemble import HistGradientBoostingRegressor\n",
        "\n",
        "# Load the dataset\n",
        "df = pd.read_excel(\"/content/owid-covid-data_with_latest_update.xlsx\")\n",
        "\n",
        "# Convert 'date' column to datetime\n",
        "if df['date'].dtype == object:\n",
        "    df['date'] = pd.to_datetime(df['date'])\n",
        "\n",
        "# Drop string and object columns except 'location' and 'date'\n",
        "drop_cols = df.select_dtypes(include=['object', 'string']).columns.difference(['location', 'date'])\n",
        "df = df.drop(columns=drop_cols)\n",
        "\n",
        "# Define features (all numeric except icu_patients and identifiers)\n",
        "features = df.select_dtypes(include=[np.number]).columns.difference(['icu_patients']).tolist()\n",
        "\n",
        "# Prepare for imputation\n",
        "df = df.sort_values(['location', 'date'])\n",
        "df['icu_patients_imputed'] = df['icu_patients']\n",
        "\n",
        "# Initialize model\n",
        "model = HistGradientBoostingRegressor(random_state=42)\n",
        "\n",
        "# Track countries skipped\n",
        "skipped_countries = []\n",
        "successful_countries = []\n",
        "\n",
        "# Iterate per country\n",
        "for country in df['location'].unique():\n",
        "    country_df = df[df['location'] == country].copy()\n",
        "\n",
        "    known = country_df[country_df['icu_patients'].notna()]\n",
        "    unknown = country_df[country_df['icu_patients'].isna()]\n",
        "\n",
        "    if len(known) < 5 or len(unknown) == 0:\n",
        "        skipped_countries.append(country)\n",
        "        continue\n",
        "\n",
        "    # Prepare training data\n",
        "    X_train = known[features].dropna()\n",
        "    y_train = known.loc[X_train.index, 'icu_patients']\n",
        "\n",
        "    if X_train.empty:\n",
        "        skipped_countries.append(country)\n",
        "        continue\n",
        "\n",
        "    # Train model\n",
        "    model.fit(X_train, y_train)\n",
        "\n",
        "    # Predict on unknown rows that have no NaNs\n",
        "    X_pred = unknown[features].dropna()\n",
        "\n",
        "    if X_pred.empty:\n",
        "        skipped_countries.append(country)\n",
        "        continue\n",
        "\n",
        "    y_pred = model.predict(X_pred)\n",
        "    y_pred = np.round(np.clip(y_pred, 0, None)).astype(int)\n",
        "\n",
        "    # Impute values\n",
        "    df.loc[X_pred.index, 'icu_patients_imputed'] = y_pred\n",
        "    successful_countries.append(country)\n",
        "\n",
        "# Finalize: replace original column\n",
        "df['icu_patients'] = df['icu_patients'].combine_first(df['icu_patients_imputed'])\n",
        "df.drop(columns='icu_patients_imputed', inplace=True)\n",
        "\n",
        "# Save output\n",
        "df.to_excel(\"owid-covid-data_with_icu_patients_imputed.xlsx\", index=False)\n",
        "\n",
        "# Output status\n",
        "print(\"✅ Done. File saved as: 'owid-covid-data_with_icu_patients_imputed.xlsx'\")\n",
        "print(f\"✅ Countries successfully predicted: {len(successful_countries)}\")\n",
        "print(f\"⚠️ Countries skipped due to data issues: {skipped_countries}\")\n"
      ],
      "metadata": {
        "id": "JDJkqQafSNe-"
      },
      "execution_count": null,
      "outputs": []
    },
    {
      "cell_type": "code",
      "source": [
        "import pandas as pd\n",
        "import numpy as np\n",
        "from sklearn.ensemble import HistGradientBoostingRegressor\n",
        "from sklearn.model_selection import train_test_split\n",
        "from sklearn.metrics import mean_squared_error\n",
        "from sklearn.preprocessing import OrdinalEncoder\n",
        "\n",
        "# 1. Load dataset\n",
        "df = pd.read_excel(\"/content/owid-covid-data_with_latest_update.xlsx\")\n",
        "\n",
        "# 2. Convert date column if necessary\n",
        "if df['date'].dtype == 'O':\n",
        "    df['date'] = pd.to_datetime(df['date'])\n",
        "\n",
        "# 3. Add time progression feature\n",
        "df['days_since_first_entry'] = df.groupby('location')['date'].transform(lambda x: (x - x.min()).dt.days)\n",
        "\n",
        "# 4. Drop columns with non-numeric types (excluding 'location' for encoding)\n",
        "df_numeric = df.copy()\n",
        "non_numeric_cols = df_numeric.select_dtypes(include=['object', 'datetime']).columns.tolist()\n",
        "non_numeric_cols = [col for col in non_numeric_cols if col != 'location']\n",
        "df_numeric.drop(columns=non_numeric_cols, inplace=True)\n",
        "\n",
        "# 5. Encode 'location'\n",
        "encoder = OrdinalEncoder()\n",
        "df_numeric['location'] = encoder.fit_transform(df[['location']])\n",
        "\n",
        "# 6. Define features and target\n",
        "features = df_numeric.columns.drop('icu_patients')\n",
        "target = 'icu_patients'\n",
        "\n",
        "# 7. Split into known and missing ICU data\n",
        "df_known = df_numeric[df_numeric['icu_patients'].notna()]\n",
        "df_missing = df_numeric[df_numeric['icu_patients'].isna()]\n",
        "\n",
        "# 8. Train model\n",
        "X = df_known[features]\n",
        "y = df_known[target]\n",
        "X_train, X_test, y_train, y_test = train_test_split(X, y, test_size=0.2, random_state=42)\n",
        "\n",
        "model = HistGradientBoostingRegressor(max_iter=500)\n",
        "model.fit(X_train, y_train)\n",
        "\n",
        "# 9. Evaluate\n",
        "y_pred = model.predict(X_test)\n",
        "rmse = np.sqrt(mean_squared_error(y_test, y_pred))\n",
        "\n",
        "print(f\"✅ Model trained. RMSE: {rmse:.2f} ICU patients\")\n",
        "\n",
        "# 10. Predict and round ICU patients\n",
        "X_missing = df_missing[features]\n",
        "icu_pred = model.predict(X_missing)\n",
        "icu_pred = np.maximum(np.round(icu_pred), 0)  # no negatives\n",
        "\n",
        "# 11. Impute predicted values into original df\n",
        "df.loc[df['icu_patients'].isna(), 'icu_patients'] = icu_pred\n",
        "\n",
        "# 12. Save result\n",
        "df.to_excel(\"owid-covid-data_with_icu_imputed.xlsx\", index=False)\n",
        "print(\"✅ File saved as 'owid-covid-data_with_icu_imputed.xlsx'\")\n"
      ],
      "metadata": {
        "id": "9R3AX6nKTE3-"
      },
      "execution_count": null,
      "outputs": []
    },
    {
      "cell_type": "code",
      "source": [
        "missing_counts = df.isna().groupby(df['location']).sum().sum(axis=1)\n",
        "missing_counts.sort_values()"
      ],
      "metadata": {
        "id": "OB1GDBT_VxEO"
      },
      "execution_count": null,
      "outputs": []
    },
    {
      "cell_type": "code",
      "source": [
        "import pandas as pd\n",
        "import numpy as np\n",
        "from sklearn.model_selection import train_test_split\n",
        "from xgboost import XGBRegressor\n",
        "from sklearn.metrics import mean_squared_error\n",
        "from datetime import timedelta\n",
        "\n",
        "# 1. Load data\n",
        "df = pd.read_excel(\"/content/owid-covid-data_with_latest_update.xlsx\")\n",
        "\n",
        "# 2. Ensure date is datetime\n",
        "df['date'] = pd.to_datetime(df['date'])\n",
        "\n",
        "# 3. Sort and create lag features\n",
        "df = df.sort_values(['location', 'date'])\n",
        "for lag in [1, 3, 7]:\n",
        "    df[f'new_cases_lag_{lag}'] = df.groupby('location')['new_cases'].shift(lag)\n",
        "    df[f'new_deaths_lag_{lag}'] = df.groupby('location')['new_deaths'].shift(lag)\n",
        "    df[f'hosp_patients_lag_{lag}'] = df.groupby('location')['hosp_patients'].shift(lag)\n",
        "\n",
        "# 4. Derived feature: days since first case\n",
        "df['days_since_first_case'] = df.groupby('location')['new_cases'].cumsum().gt(0).groupby(df['location']).cumsum()\n",
        "\n",
        "# 5. Filter where ICU data is known\n",
        "target = 'icu_patients'\n",
        "features = [\n",
        "    'new_cases', 'new_deaths', 'total_cases', 'total_deaths',\n",
        "    'hosp_patients', 'population', 'stringency_index',\n",
        "    'population_density', 'median_age', 'gdp_per_capita',\n",
        "    'diabetes_prevalence', 'hospital_beds_per_thousand',\n",
        "    'life_expectancy', 'human_development_index', 'days_since_first_case',\n",
        "    'new_cases_lag_1', 'new_cases_lag_3', 'new_cases_lag_7',\n",
        "    'new_deaths_lag_1', 'new_deaths_lag_3', 'new_deaths_lag_7',\n",
        "    'hosp_patients_lag_1', 'hosp_patients_lag_3', 'hosp_patients_lag_7'\n",
        "]\n",
        "\n",
        "# Remove rows with missing values in features or target\n",
        "train_df = df[df[target].notna()].dropna(subset=features)\n",
        "\n",
        "# 6. Split and train model\n",
        "X = train_df[features]\n",
        "y = train_df[target]\n",
        "X_train, X_test, y_train, y_test = train_test_split(X, y, test_size=0.2, shuffle=True)\n",
        "\n",
        "model = XGBRegressor(n_estimators=200, learning_rate=0.05, max_depth=6, random_state=42)\n",
        "model.fit(X_train, y_train)\n",
        "\n",
        "# 7. Evaluate\n",
        "y_pred = model.predict(X_test)\n",
        "rmse = np.sqrt(mean_squared_error(y_test, y_pred))\n",
        "print(f\"✅ Model trained. RMSE: {rmse:.2f} ICU patients\")\n",
        "\n",
        "# 8. Predict missing ICU values\n",
        "missing_mask = df[target].isna()\n",
        "X_missing = df.loc[missing_mask, features].copy()\n",
        "X_missing = X_missing.dropna()\n",
        "\n",
        "preds = model.predict(X_missing)\n",
        "preds = np.round(np.maximum(preds, 0)).astype(int)  # Ensure realistic ICU values\n",
        "\n",
        "# Insert predictions\n",
        "df.loc[X_missing.index, target] = preds\n",
        "\n",
        "# 9. Save to Excel\n",
        "df.to_excel(\"owid-covid-data_imputed_icu.xlsx\", index=False)\n",
        "print(\"✅ Final dataset saved to 'owid-covid-data_imputed_icu.xlsx'\")\n"
      ],
      "metadata": {
        "id": "p2DPZkc5VzGR"
      },
      "execution_count": null,
      "outputs": []
    },
    {
      "cell_type": "code",
      "source": [
        "import pandas as pd\n",
        "import numpy as np\n",
        "from sklearn.ensemble import GradientBoostingRegressor\n",
        "from sklearn.model_selection import train_test_split\n",
        "from sklearn.metrics import mean_squared_error\n",
        "from sklearn.impute import SimpleImputer # Import SimpleImputer\n",
        "\n",
        "# 1. Load your filtered dataset\n",
        "df = pd.read_excel('/content/owid-covid-data_with_latest_update.xlsx')\n",
        "\n",
        "# 2. Ensure date and sorting\n",
        "df['date'] = pd.to_datetime(df['date'])\n",
        "df.sort_values(['location', 'date'], inplace=True)\n",
        "\n",
        "# 3. Time progression\n",
        "df['days_since_start'] = df.groupby('location')['date'].transform(lambda x: (x - x.min()).dt.days)\n",
        "\n",
        "# 4. Lag features\n",
        "df['new_cases_lag1'] = df.groupby('location')['new_cases'].shift(1)\n",
        "df['new_deaths_lag1'] = df.groupby('location')['new_deaths'].shift(1)\n",
        "\n",
        "# 5. Epidemiological logic flag\n",
        "df['epidemic_inactive'] = ((df['total_cases'].fillna(0) == 0) & (df['total_deaths'].fillna(0) == 0)).astype(int)\n",
        "\n",
        "# 6. Keep only numeric features\n",
        "numeric_df = df.select_dtypes(include=[np.number]).copy()\n",
        "\n",
        "# 7. Define target and drop it from features\n",
        "target = 'icu_patients'\n",
        "available_features = numeric_df.columns.drop(target)\n",
        "\n",
        "# 8. Prepare training data\n",
        "df_train = df[df[target].notna()].copy()\n",
        "\n",
        "# Impute missing values in training features\n",
        "imputer = SimpleImputer(strategy=\"mean\")\n",
        "X = imputer.fit_transform(df_train[available_features])\n",
        "y = df_train[target]\n",
        "\n",
        "# 9. Split data\n",
        "X_train, X_test, y_train, y_test = train_test_split(X, y, test_size=0.2, random_state=42)\n",
        "\n",
        "# 10. Train model\n",
        "model = GradientBoostingRegressor(n_estimators=400, max_depth=6, learning_rate=0.1, random_state=42)\n",
        "model.fit(X_train, y_train)\n",
        "\n",
        "# 11. Evaluate model\n",
        "y_pred = model.predict(X_test)\n",
        "\n",
        "print(f\"✅ Model trained. RMSE: {rmse:.2f} ICU patients\")\n",
        "\n",
        "# 12. Impute missing values in the prediction set as well\n",
        "missing_mask = df['icu_patients'].isna()\n",
        "X_missing = df.loc[missing_mask, available_features].copy()\n",
        "\n",
        "# Impute missing values in the prediction features\n",
        "X_missing_imputed = imputer.transform(X_missing)\n",
        "\n",
        "\n",
        "icu_pred = model.predict(X_missing_imputed)\n",
        "\n",
        "# 13. Apply epidemiological logic\n",
        "# Ensure X_missing_imputed has the same index as the original df for alignment\n",
        "X_missing_imputed_df = pd.DataFrame(X_missing_imputed, columns=available_features, index=X_missing.index)\n",
        "\n",
        "icu_pred[(X_missing_imputed_df['epidemic_inactive'] == 1) | (X_missing_imputed_df['new_cases'] == 0)] = 0\n",
        "icu_pred = np.round(np.maximum(icu_pred, 0)).astype(int)\n",
        "\n",
        "\n",
        "# 14. Fill in predictions\n",
        "df.loc[X_missing_imputed_df.index, 'icu_patients'] = icu_pred\n",
        "\n",
        "# 15. Save result\n",
        "\n",
        "df.to_excel('owid-covid-data_with_icu_imputed.xlsx', index=False)"
      ],
      "metadata": {
        "id": "uw-ewHJqYqjU"
      },
      "execution_count": null,
      "outputs": []
    },
    {
      "cell_type": "code",
      "source": [
        "df=pd.read_excel('/content/owid-covid-data_with_latest_update_2.xlsx')\n",
        "\n",
        "missing_counts = df.isna().groupby(df['location']).sum().sum(axis=1)\n",
        "missing_counts.sort_values()"
      ],
      "metadata": {
        "id": "eT_2TPUheMcC"
      },
      "execution_count": null,
      "outputs": []
    },
    {
      "cell_type": "code",
      "source": [
        "import pandas as pd\n",
        "import matplotlib.pyplot as plt\n",
        "\n",
        "\n",
        "df = pd.read_excel('/content/owid-covid-data_with_latest_update_2.xlsx')\n",
        "\n",
        "df_SouthAfrica = df[df['location']=='South Africa']\n",
        "df_Malaysia = df[df['location']=='Malaysia']\n",
        "df_Czechia = df[df['location']=='Czechia']\n",
        "df_Australia = df[df['location']=='Australia']\n",
        "df_Canada = df[df['location']=='Canada']\n",
        "df_Chile = df[df['location']=='Chile']\n"
      ],
      "metadata": {
        "id": "zJoc6DZyGshi"
      },
      "execution_count": null,
      "outputs": []
    },
    {
      "cell_type": "code",
      "source": [
        "plt.plot(df_SouthAfrica['date'], df_SouthAfrica['new_cases'], linestyle = \"-\", label = 'Number of new cases')\n",
        "\n",
        "\n",
        "plt.xlabel('Year')\n",
        "plt.ylabel('Number of new cases')\n",
        "plt.title('South Africa')\n",
        "plt.legend()\n",
        "plt.show()"
      ],
      "metadata": {
        "id": "bwVfJT-nH9-e"
      },
      "execution_count": null,
      "outputs": []
    },
    {
      "cell_type": "code",
      "source": [
        "plt.plot(df_SouthAfrica['date'], df_SouthAfrica['new_cases_smoothed'], label = 'New Cases Smoothed')\n",
        "\n",
        "\n",
        "plt.xlabel('Year')\n",
        "plt.ylabel('New cases Smoothed')\n",
        "plt.title('South Africa')\n",
        "plt.legend()\n",
        "plt.show()"
      ],
      "metadata": {
        "id": "UzntJNQ3Lu79"
      },
      "execution_count": null,
      "outputs": []
    },
    {
      "cell_type": "code",
      "source": [
        "plt.plot(df_SouthAfrica['date'], df_SouthAfrica['total_cases'], linestyle = \"-\", label = 'Total Cases')\n",
        "\n",
        "\n",
        "plt.xlabel('Year')\n",
        "plt.ylabel('Total cases')\n",
        "plt.title('South Africa')\n",
        "plt.legend()\n",
        "plt.show()"
      ],
      "metadata": {
        "id": "K5fUwMHHJuWU"
      },
      "execution_count": null,
      "outputs": []
    },
    {
      "cell_type": "code",
      "source": [
        "plt.plot(df_Malaysia['date'], df_Malaysia['new_cases'], linestyle = \"-\", label = 'New Cases')\n",
        "\n",
        "\n",
        "plt.xlabel('Year')\n",
        "plt.ylabel('New cases')\n",
        "plt.title('Malaysia')\n",
        "plt.legend()\n",
        "plt.show()"
      ],
      "metadata": {
        "id": "jXCT4BwcLLnj"
      },
      "execution_count": null,
      "outputs": []
    },
    {
      "cell_type": "code",
      "source": [
        "plt.plot(df_Malaysia['date'], df_Malaysia['new_cases_smoothed'], linestyle = \"-\", label = 'New Cases Smoothed')\n",
        "\n",
        "\n",
        "plt.xlabel('Year')\n",
        "plt.ylabel('New cases Smoothed')\n",
        "plt.title('Malaysia')\n",
        "plt.legend()\n",
        "plt.show()"
      ],
      "metadata": {
        "id": "jsHjNxFXLiKf"
      },
      "execution_count": null,
      "outputs": []
    },
    {
      "cell_type": "code",
      "source": [
        "plt.plot(df_Malaysia['date'], df_Malaysia['total_cases'], linestyle = \"-\", label = 'Total Cases')\n",
        "\n",
        "\n",
        "plt.xlabel('Year')\n",
        "plt.ylabel('Total cases')\n",
        "plt.title('Malaysia')\n",
        "plt.legend()\n",
        "plt.show()"
      ],
      "metadata": {
        "id": "ItmbnR7yKxNz"
      },
      "execution_count": null,
      "outputs": []
    },
    {
      "cell_type": "markdown",
      "source": [
        "This is EDA on Czechia to do feature selection\n"
      ],
      "metadata": {
        "id": "DGBl6ZwkNshm"
      }
    },
    {
      "cell_type": "code",
      "source": [
        "plt.plot(df_Czechia['date'], df_Czechia['new_cases'], linestyle = \"-\", label = 'New Cases')\n",
        "\n",
        "\n",
        "plt.xlabel('Year')\n",
        "plt.ylabel('New cases')\n",
        "plt.title('Czechia')\n",
        "plt.legend()\n",
        "plt.show()"
      ],
      "metadata": {
        "id": "W-gluO53L_4k"
      },
      "execution_count": null,
      "outputs": []
    },
    {
      "cell_type": "code",
      "source": [
        "plt.plot(df_Czechia['date'], df_Czechia['new_cases_smoothed'], linestyle = \"-\", label = 'New Cases Smoothed')\n",
        "\n",
        "\n",
        "plt.xlabel('Year')\n",
        "plt.ylabel('New cases Smoothed')\n",
        "plt.title('Czechia')\n",
        "plt.legend()\n",
        "plt.show()"
      ],
      "metadata": {
        "id": "RznWDr_TNPJ0"
      },
      "execution_count": null,
      "outputs": []
    },
    {
      "cell_type": "code",
      "source": [
        "plt.plot(df_Czechia['date'], df_Czechia['total_cases'], linestyle = \"-\", label = 'Total Cases')\n",
        "\n",
        "\n",
        "plt.xlabel('Year')\n",
        "plt.ylabel('Total cases')\n",
        "plt.title('Czechia')\n",
        "plt.legend()\n",
        "plt.show()"
      ],
      "metadata": {
        "id": "AcFIWk6JNTtR"
      },
      "execution_count": null,
      "outputs": []
    },
    {
      "cell_type": "code",
      "source": [
        "plt.plot(df_Australia['date'], df_Australia['new_cases'], linestyle = \"-\", label = 'New Cases')\n",
        "\n",
        "\n",
        "plt.xlabel('Year')\n",
        "plt.ylabel('New cases')\n",
        "plt.title('Australia')\n",
        "plt.legend()\n",
        "plt.show()\n"
      ],
      "metadata": {
        "id": "tgks81CFNV8x"
      },
      "execution_count": null,
      "outputs": []
    },
    {
      "cell_type": "code",
      "source": [
        "plt.plot(df_Australia['date'], df_Australia['new_cases_smoothed'], linestyle = \"-\", label = 'New Cases Smoothed')\n",
        "\n",
        "\n",
        "plt.xlabel('Year')\n",
        "plt.ylabel('New cases Smoothed')\n",
        "plt.title('Australia')\n",
        "plt.legend()\n",
        "plt.show()"
      ],
      "metadata": {
        "id": "ou1FjTGsOuoS"
      },
      "execution_count": null,
      "outputs": []
    },
    {
      "cell_type": "code",
      "source": [
        "plt.plot(df_Australia['date'], df_Australia['total_cases'], linestyle = \"-\", label = 'Total Cases')\n",
        "\n",
        "\n",
        "plt.xlabel('Year')\n",
        "plt.ylabel('Total cases')\n",
        "plt.title('Australia')\n",
        "plt.legend()\n",
        "plt.show()\n"
      ],
      "metadata": {
        "id": "TlXNQIP8Owrv"
      },
      "execution_count": null,
      "outputs": []
    },
    {
      "cell_type": "code",
      "source": [
        "plt.plot(df_Canada['date'], df_Canada['new_cases'], linestyle = \"-\", label = 'New Cases')\n",
        "\n",
        "\n",
        "plt.xlabel('Year')\n",
        "plt.ylabel('New cases')\n",
        "plt.title('Canada')\n",
        "plt.legend()\n",
        "plt.show()"
      ],
      "metadata": {
        "id": "K0yBdLlGOzuT"
      },
      "execution_count": null,
      "outputs": []
    },
    {
      "cell_type": "code",
      "source": [
        "plt.plot(df_Canada['date'], df_Canada['new_cases_smoothed'], linestyle = \"-\", label = 'New Cases Smoothed')\n",
        "\n",
        "\n",
        "plt.xlabel('Year')\n",
        "plt.ylabel('New cases Smoothed')\n",
        "plt.title('Canada')\n",
        "plt.legend()\n",
        "plt.show()"
      ],
      "metadata": {
        "id": "CPKWUNugO1jx"
      },
      "execution_count": null,
      "outputs": []
    },
    {
      "cell_type": "code",
      "source": [
        "plt.plot(df_Canada['date'], df_Canada['total_cases'], linestyle = \"-\", label = 'Total Cases')\n",
        "\n",
        "\n",
        "plt.xlabel('Year')\n",
        "plt.ylabel('Total cases')\n",
        "plt.title('Canada')\n",
        "plt.legend()\n",
        "plt.show()"
      ],
      "metadata": {
        "id": "KQQCR6VUO3_J"
      },
      "execution_count": null,
      "outputs": []
    },
    {
      "cell_type": "code",
      "source": [
        "plt.plot(df_Chile['date'], df_Chile['new_cases'], linestyle = \"-\", label = 'New Cases')\n",
        "\n",
        "\n",
        "plt.xlabel('Year')\n",
        "plt.ylabel('New cases')\n",
        "plt.title('Chile')\n",
        "plt.legend()\n",
        "plt.show()"
      ],
      "metadata": {
        "id": "TYgD02YZO5xC"
      },
      "execution_count": null,
      "outputs": []
    },
    {
      "cell_type": "code",
      "source": [
        "plt.plot(df_Chile['date'], df_Chile['new_cases_smoothed'], linestyle = \"-\", label = 'New Cases Smoothed')\n",
        "\n",
        "\n",
        "plt.xlabel('Year')\n",
        "plt.ylabel('New cases Smoothed')\n",
        "plt.title('Chile')\n",
        "plt.legend()\n",
        "plt.show()"
      ],
      "metadata": {
        "id": "KHQa5lT7O8T0"
      },
      "execution_count": null,
      "outputs": []
    },
    {
      "cell_type": "code",
      "source": [
        "plt.plot(df_Chile['date'], df_Chile['total_cases'], linestyle = \"-\", label = 'Total Cases')\n",
        "\n",
        "\n",
        "plt.xlabel('Year')\n",
        "plt.ylabel('Total cases')\n",
        "plt.title('Chile')\n",
        "plt.legend()\n",
        "plt.show()"
      ],
      "metadata": {
        "id": "vyMAc9FwO-Bl"
      },
      "execution_count": null,
      "outputs": []
    },
    {
      "cell_type": "code",
      "source": [
        "plt.plot(df_SouthAfrica['date'], df_SouthAfrica['new_deaths'], linestyle = \"-\", label = 'New Deaths')\n",
        "\n",
        "\n",
        "plt.xlabel('Year')\n",
        "plt.ylabel('New Deaths')\n",
        "plt.title('South Africa')\n",
        "plt.legend()\n",
        "plt.show()"
      ],
      "metadata": {
        "id": "reIHTeZtPqzD"
      },
      "execution_count": null,
      "outputs": []
    },
    {
      "cell_type": "code",
      "source": [
        "plt.plot(df_SouthAfrica['date'], df_SouthAfrica['new_deaths_smoothed'], linestyle = \"-\", label = 'New Deaths Smoothed')\n",
        "\n",
        "\n",
        "plt.xlabel('Year')\n",
        "plt.ylabel('New Deaths Smoothed')\n",
        "plt.title('South Africa')\n",
        "plt.legend()\n",
        "plt.show()"
      ],
      "metadata": {
        "id": "qRijIQNhPueE"
      },
      "execution_count": null,
      "outputs": []
    },
    {
      "cell_type": "code",
      "source": [
        "plt.plot(df_SouthAfrica['date'], df_SouthAfrica['total_deaths'], linestyle = \"-\", label = 'Total Deaths')\n",
        "\n",
        "\n",
        "plt.xlabel('Year')\n",
        "plt.ylabel('Total Deaths')\n",
        "plt.title('South Africa')\n",
        "plt.legend()\n",
        "plt.show()"
      ],
      "metadata": {
        "id": "01F8d6HcP1YD"
      },
      "execution_count": null,
      "outputs": []
    },
    {
      "cell_type": "code",
      "source": [
        "plt.plot(df_Malaysia['date'], df_Malaysia['new_deaths'], linestyle = \"-\", label = 'New Deaths')\n",
        "\n",
        "\n",
        "plt.xlabel('Year')\n",
        "plt.ylabel('New Deaths')\n",
        "plt.title('Malaysia')\n",
        "plt.legend()\n",
        "plt.show()"
      ],
      "metadata": {
        "id": "8YnrgXURP-DV"
      },
      "execution_count": null,
      "outputs": []
    },
    {
      "cell_type": "code",
      "source": [
        "plt.plot(df_Malaysia['date'], df_Malaysia['new_deaths_smoothed'], linestyle = \"-\", label = 'New Deaths Smoothed')\n",
        "\n",
        "\n",
        "plt.xlabel('Year')\n",
        "plt.ylabel('New Deaths Smoothed')\n",
        "plt.title('Malaysia')\n",
        "plt.legend()\n",
        "plt.show()"
      ],
      "metadata": {
        "id": "7P7z9XntP_3e"
      },
      "execution_count": null,
      "outputs": []
    },
    {
      "cell_type": "code",
      "source": [
        "plt.plot(df_Malaysia['date'], df_Malaysia['total_deaths'], linestyle = \"-\", label = 'Total Deaths')\n",
        "\n",
        "\n",
        "plt.xlabel('Year')\n",
        "plt.ylabel('Total Deaths')\n",
        "plt.title('Malaysia')\n",
        "plt.legend()\n",
        "plt.show()"
      ],
      "metadata": {
        "id": "d8JR0s98QDJM"
      },
      "execution_count": null,
      "outputs": []
    },
    {
      "cell_type": "code",
      "source": [
        "plt.plot(df_Czechia['date'], df_Czechia['new_deaths'], linestyle = \"-\", label = 'New Deaths')\n",
        "\n",
        "\n",
        "plt.xlabel('Year')\n",
        "plt.ylabel('New Deaths')\n",
        "plt.title('Czechia')\n",
        "plt.legend()\n",
        "plt.show()"
      ],
      "metadata": {
        "id": "MHYOWpuTQF7u"
      },
      "execution_count": null,
      "outputs": []
    },
    {
      "cell_type": "code",
      "source": [
        "plt.plot(df_Czechia['date'], df_Czechia['new_deaths_smoothed'], linestyle = \"-\", label = 'New Deaths Smoothed')\n",
        "\n",
        "\n",
        "plt.xlabel('Year')\n",
        "plt.ylabel('New Deaths Smoothed')\n",
        "plt.title('Czechia')\n",
        "plt.legend()\n",
        "plt.show()"
      ],
      "metadata": {
        "id": "x3NeN64tQHyQ"
      },
      "execution_count": null,
      "outputs": []
    },
    {
      "cell_type": "code",
      "source": [
        "plt.plot(df_Czechia['date'], df_Czechia['total_deaths'], linestyle = \"-\", label = 'Total Deaths')\n",
        "\n",
        "\n",
        "plt.xlabel('Year')\n",
        "plt.ylabel('Total Deaths')\n",
        "plt.title('Czechia')\n",
        "plt.legend()\n",
        "plt.show()"
      ],
      "metadata": {
        "id": "0mBa2JLBQLI6"
      },
      "execution_count": null,
      "outputs": []
    },
    {
      "cell_type": "code",
      "source": [
        "plt.plot(df_Australia['date'], df_Australia['new_deaths'], linestyle = \"-\", label = 'New Deaths')\n",
        "\n",
        "\n",
        "plt.xlabel('Year')\n",
        "plt.ylabel('New Deaths')\n",
        "plt.title('Australia')\n",
        "plt.legend()\n",
        "plt.show()"
      ],
      "metadata": {
        "id": "XaMesxBHQNJd"
      },
      "execution_count": null,
      "outputs": []
    },
    {
      "cell_type": "code",
      "source": [
        "plt.plot(df_Australia['date'], df_Australia['new_deaths_smoothed'], linestyle = \"-\", label = 'New Deaths Smoothed')\n",
        "\n",
        "\n",
        "plt.xlabel('Year')\n",
        "plt.ylabel('New Deaths Smoothed')\n",
        "plt.title('Australia')\n",
        "plt.legend()\n",
        "plt.show()"
      ],
      "metadata": {
        "id": "587Jw5qwQPQc"
      },
      "execution_count": null,
      "outputs": []
    },
    {
      "cell_type": "code",
      "source": [
        "plt.plot(df_Australia['date'], df_Australia['total_deaths'], linestyle = \"-\", label = 'Total Deaths')\n",
        "\n",
        "\n",
        "plt.xlabel('Year')\n",
        "plt.ylabel('Total Deaths')\n",
        "plt.title('Australia')\n",
        "plt.legend()\n",
        "plt.show()"
      ],
      "metadata": {
        "id": "F3dXxsutQSr0"
      },
      "execution_count": null,
      "outputs": []
    },
    {
      "cell_type": "code",
      "source": [
        "plt.plot(df_Canada['date'], df_Canada['new_deaths'], linestyle = \"-\", label = 'New Deaths')\n",
        "\n",
        "\n",
        "plt.xlabel('Year')\n",
        "plt.ylabel('New Deaths')\n",
        "plt.title('Canada')\n",
        "plt.legend()\n",
        "plt.show()"
      ],
      "metadata": {
        "id": "dAtHytK6QUQN"
      },
      "execution_count": null,
      "outputs": []
    },
    {
      "cell_type": "code",
      "source": [
        "plt.plot(df_Canada['date'], df_Canada['new_deaths_smoothed'], linestyle = \"-\", label = 'New Deaths Smoothed')\n",
        "\n",
        "\n",
        "plt.xlabel('Year')\n",
        "plt.ylabel('New Deaths Smoothed')\n",
        "plt.title('Canada')\n",
        "plt.legend()"
      ],
      "metadata": {
        "id": "Pd5u34bXQWKY"
      },
      "execution_count": null,
      "outputs": []
    },
    {
      "cell_type": "code",
      "source": [
        "plt.plot(df_Canada['date'], df_Canada['total_deaths'], linestyle = \"-\", label = 'Total Deaths')\n",
        "\n",
        "\n",
        "plt.xlabel('Year')\n",
        "plt.ylabel('Total Deaths')\n",
        "plt.title('Canada')\n",
        "plt.legend()\n",
        "plt.show()"
      ],
      "metadata": {
        "id": "Gz_-Xyy3QaOV"
      },
      "execution_count": null,
      "outputs": []
    },
    {
      "cell_type": "code",
      "source": [
        "plt.plot(df_Chile['date'], df_Chile['new_deaths'], linestyle = \"-\", label = 'New Deaths')\n",
        "\n",
        "\n",
        "plt.xlabel('Year')\n",
        "plt.ylabel('New Deaths')\n",
        "plt.title('Chile')\n",
        "plt.legend()\n",
        "plt.show()"
      ],
      "metadata": {
        "id": "IV9WN7LQQbWD"
      },
      "execution_count": null,
      "outputs": []
    },
    {
      "cell_type": "code",
      "source": [
        "plt.plot(df_Chile['date'], df_Chile['new_deaths_smoothed'], linestyle = \"-\", label = 'New Deaths Smoothed')\n",
        "\n",
        "\n",
        "plt.xlabel('Year')\n",
        "plt.ylabel('New Deaths Smoothed')\n",
        "plt.title('Chile')\n",
        "plt.legend()\n",
        "plt.show()"
      ],
      "metadata": {
        "id": "qQ08cGH3QfoA"
      },
      "execution_count": null,
      "outputs": []
    },
    {
      "cell_type": "code",
      "source": [
        "plt.plot(df_Chile['date'], df_Chile['total_deaths'], linestyle = \"-\", label = 'Total Deaths')\n",
        "\n",
        "\n",
        "plt.xlabel('Year')\n",
        "plt.ylabel('Total Deaths')\n",
        "plt.title('Chile')\n",
        "plt.legend()\n",
        "plt.show()"
      ],
      "metadata": {
        "id": "OIejXGupRIyX"
      },
      "execution_count": null,
      "outputs": []
    },
    {
      "cell_type": "code",
      "source": [
        "plt.plot(df_SouthAfrica['date'], df_SouthAfrica['new_cases_per_million'], linestyle = \"-\", label = 'New Cases per Million')\n",
        "\n",
        "\n",
        "plt.xlabel('Year')\n",
        "plt.ylabel('New Cases per Million')\n",
        "plt.title('South Africa')\n",
        "plt.legend()\n",
        "plt.show()"
      ],
      "metadata": {
        "id": "inraLJgwROBr"
      },
      "execution_count": null,
      "outputs": []
    },
    {
      "cell_type": "code",
      "source": [
        "plt.plot(df_SouthAfrica['date'], df_SouthAfrica['new_deaths_per_million'], linestyle = \"-\", label = 'New Deaths per Million')\n",
        "\n",
        "\n",
        "plt.xlabel('Year')\n",
        "plt.ylabel('New Deaths per Million')\n",
        "plt.title('South Africa')\n",
        "plt.legend()\n",
        "plt.show()"
      ],
      "metadata": {
        "id": "a1ogj3PVRZaH"
      },
      "execution_count": null,
      "outputs": []
    },
    {
      "cell_type": "code",
      "source": [
        "plt.plot(df_Malaysia['date'], df_Malaysia['new_cases_per_million'], linestyle = \"-\", label = 'New Cases per Million')\n",
        "\n",
        "\n",
        "plt.xlabel('Year')\n",
        "plt.ylabel('New Cases per Million')\n",
        "plt.title('Malaysia')\n",
        "plt.legend()\n",
        "plt.show()"
      ],
      "metadata": {
        "id": "INyL9rDHRmdR"
      },
      "execution_count": null,
      "outputs": []
    },
    {
      "cell_type": "code",
      "source": [
        "plt.plot(df_Malaysia['date'], df_Malaysia['new_deaths_per_million'], linestyle = \"-\", label = 'New Deaths per Million')\n",
        "\n",
        "\n",
        "plt.xlabel('Year')\n",
        "plt.ylabel('New Deaths per Million')\n",
        "plt.title('Malaysia')\n",
        "plt.legend()\n",
        "plt.show()"
      ],
      "metadata": {
        "id": "6RpMPP89RqXx"
      },
      "execution_count": null,
      "outputs": []
    },
    {
      "cell_type": "code",
      "source": [
        "plt.plot(df_Czechia['date'], df_Czechia['new_cases_per_million'], linestyle = \"-\", label = 'New Cases per Million')\n",
        "\n",
        "\n",
        "plt.xlabel('Year')\n",
        "plt.ylabel('New Cases per Million')\n",
        "plt.title('Czechia')\n",
        "plt.legend()"
      ],
      "metadata": {
        "id": "EeijTHwaRwge"
      },
      "execution_count": null,
      "outputs": []
    },
    {
      "cell_type": "code",
      "source": [
        "plt.plot(df_Czechia['date'], df_Czechia['new_deaths_per_million'], linestyle = \"-\", label = 'New Deaths per Million')\n",
        "\n",
        "\n",
        "plt.xlabel('Year')\n",
        "plt.ylabel('New Deaths per Million')\n",
        "plt.title('Czechia')\n",
        "plt.legend()\n",
        "plt.show()\n"
      ],
      "metadata": {
        "id": "3bAo2OBDSFBC"
      },
      "execution_count": null,
      "outputs": []
    },
    {
      "cell_type": "code",
      "source": [
        "plt.plot(df_Australia['date'], df_Australia['new_cases_per_million'], linestyle = \"-\", label = 'New Cases per Million')\n",
        "\n",
        "\n",
        "plt.xlabel('Year')\n",
        "plt.ylabel('New Cases per Million')\n",
        "plt.title('Australia')\n",
        "plt.legend()\n",
        "plt.show()"
      ],
      "metadata": {
        "id": "yFUq8jfPSKAU"
      },
      "execution_count": null,
      "outputs": []
    },
    {
      "cell_type": "code",
      "source": [
        "plt.plot(df_Australia['date'], df_Australia['new_deaths_per_million'], linestyle = \"-\", label = 'New Deaths per Million')\n",
        "\n",
        "\n",
        "plt.xlabel('Year')\n",
        "plt.ylabel('New Deaths per Million')\n",
        "plt.title('Australia')\n",
        "plt.legend()\n",
        "plt.show()\n"
      ],
      "metadata": {
        "id": "gpnSWL07SOM-"
      },
      "execution_count": null,
      "outputs": []
    },
    {
      "cell_type": "code",
      "source": [
        "plt.plot(df_Canada['date'], df_Canada['new_cases_per_million'], linestyle = \"-\", label = 'New Cases per Million')\n",
        "\n",
        "\n",
        "plt.xlabel('Year')\n",
        "plt.ylabel('New Cases per Million')\n",
        "plt.title('Canada')\n",
        "plt.legend()\n",
        "plt.show()"
      ],
      "metadata": {
        "id": "fLsRNoKWSQZB"
      },
      "execution_count": null,
      "outputs": []
    },
    {
      "cell_type": "code",
      "source": [
        "plt.plot(df_Canada['date'], df_Canada['new_deaths_per_million'], linestyle = \"-\", label = 'New Deaths per Million')\n",
        "\n",
        "\n",
        "plt.xlabel('Year')\n",
        "plt.ylabel('New Deaths per Million')\n",
        "plt.title('Canada')\n",
        "plt.legend()\n",
        "plt.show()"
      ],
      "metadata": {
        "id": "0Lo-tTnbSSwt"
      },
      "execution_count": null,
      "outputs": []
    },
    {
      "cell_type": "code",
      "source": [
        "plt.plot(df_Chile['date'], df_Chile['new_cases_per_million'], linestyle = \"-\", label = 'New Cases per Million')\n",
        "\n",
        "\n",
        "plt.xlabel('Year')\n",
        "plt.ylabel('New Cases per Million')\n",
        "plt.title('Chile')\n",
        "plt.legend()\n",
        "plt.show()"
      ],
      "metadata": {
        "id": "qvK1XWhlSVyX"
      },
      "execution_count": null,
      "outputs": []
    },
    {
      "cell_type": "code",
      "source": [
        "plt.plot(df_Chile['date'], df_Chile['new_deaths_per_million'], linestyle = \"-\", label = 'New Deaths per Million')\n",
        "\n",
        "\n",
        "plt.xlabel('Year')\n",
        "plt.ylabel('New Deaths per Million')\n",
        "plt.title('Chile')\n",
        "plt.legend()\n",
        "plt.show()"
      ],
      "metadata": {
        "id": "Rp-UB4ToSX9v"
      },
      "execution_count": null,
      "outputs": []
    },
    {
      "cell_type": "code",
      "source": [
        "from google.colab import drive\n",
        "drive.mount('/content/drive')\n",
        "import pandas as pd"
      ],
      "metadata": {
        "colab": {
          "base_uri": "https://localhost:8080/"
        },
        "outputId": "4b8768a1-e964-4eaa-d077-da196f6ba9ff",
        "id": "iBbzAHgIMaAC"
      },
      "execution_count": null,
      "outputs": [
        {
          "output_type": "stream",
          "name": "stdout",
          "text": [
            "Drive already mounted at /content/drive; to attempt to forcibly remount, call drive.mount(\"/content/drive\", force_remount=True).\n"
          ]
        }
      ]
    },
    {
      "cell_type": "code",
      "source": [
        "df_filtered = pd.read_excel('/content/drive/MyDrive/owid-covid-data_Filtered.xlsx')"
      ],
      "metadata": {
        "id": "Go4suR7pMaAE"
      },
      "execution_count": null,
      "outputs": []
    },
    {
      "cell_type": "code",
      "source": [
        "missing_counts = df_filtered.isna().groupby(df_filtered['location']).sum().sum(axis=1)"
      ],
      "metadata": {
        "id": "ISDkX3qiMaAE"
      },
      "execution_count": null,
      "outputs": []
    },
    {
      "cell_type": "code",
      "source": [
        "missing_counts.sort_values()"
      ],
      "metadata": {
        "colab": {
          "base_uri": "https://localhost:8080/",
          "height": 335
        },
        "outputId": "0055617b-49de-4238-dfe2-8903aae289b9",
        "id": "n9PVPmcDMaAF"
      },
      "execution_count": null,
      "outputs": [
        {
          "output_type": "execute_result",
          "data": {
            "text/plain": [
              "location\n",
              "Czechia         24759\n",
              "Italy           26030\n",
              "Malaysia        26252\n",
              "Canada          32340\n",
              "South Africa    32865\n",
              "Chile           34362\n",
              "Australia       39105\n",
              "dtype: int64"
            ],
            "text/html": [
              "<div>\n",
              "<style scoped>\n",
              "    .dataframe tbody tr th:only-of-type {\n",
              "        vertical-align: middle;\n",
              "    }\n",
              "\n",
              "    .dataframe tbody tr th {\n",
              "        vertical-align: top;\n",
              "    }\n",
              "\n",
              "    .dataframe thead th {\n",
              "        text-align: right;\n",
              "    }\n",
              "</style>\n",
              "<table border=\"1\" class=\"dataframe\">\n",
              "  <thead>\n",
              "    <tr style=\"text-align: right;\">\n",
              "      <th></th>\n",
              "      <th>0</th>\n",
              "    </tr>\n",
              "    <tr>\n",
              "      <th>location</th>\n",
              "      <th></th>\n",
              "    </tr>\n",
              "  </thead>\n",
              "  <tbody>\n",
              "    <tr>\n",
              "      <th>Czechia</th>\n",
              "      <td>24759</td>\n",
              "    </tr>\n",
              "    <tr>\n",
              "      <th>Italy</th>\n",
              "      <td>26030</td>\n",
              "    </tr>\n",
              "    <tr>\n",
              "      <th>Malaysia</th>\n",
              "      <td>26252</td>\n",
              "    </tr>\n",
              "    <tr>\n",
              "      <th>Canada</th>\n",
              "      <td>32340</td>\n",
              "    </tr>\n",
              "    <tr>\n",
              "      <th>South Africa</th>\n",
              "      <td>32865</td>\n",
              "    </tr>\n",
              "    <tr>\n",
              "      <th>Chile</th>\n",
              "      <td>34362</td>\n",
              "    </tr>\n",
              "    <tr>\n",
              "      <th>Australia</th>\n",
              "      <td>39105</td>\n",
              "    </tr>\n",
              "  </tbody>\n",
              "</table>\n",
              "</div><br><label><b>dtype:</b> int64</label>"
            ]
          },
          "metadata": {},
          "execution_count": 7
        }
      ]
    },
    {
      "cell_type": "code",
      "source": [
        "df_filtered['date'] = pd.to_datetime(df_filtered['date'])\n",
        "df_filtered = df_filtered.sort_values('date')\n",
        "\n",
        "#Set Generation interval (e.g. 5 days)\n",
        "tau = 5\n",
        "\n",
        "#shift new cases by tau days to estimate Rt\n",
        "df_filtered['shifted_cases']= df_filtered['new_cases'].shift(tau)\n",
        "\n",
        "#Calculate Rt.\n",
        "df_filtered['reproduction_rate'] = df_filtered['new_cases'] / df_filtered['shifted_cases']\n",
        "\n",
        "df_filtered['reproduction_rate_smoothed'] = df_filtered['reproduction_rate'].rolling(window=7).mean()\n",
        "\n",
        "#View the result\n",
        "print(df_filtered[['date', 'new_cases', 'reproduction_rate', 'reproduction_rate_smoothed']].dropna())"
      ],
      "metadata": {
        "colab": {
          "base_uri": "https://localhost:8080/"
        },
        "outputId": "be054779-0e42-4fbd-c163-18f47a12a423",
        "id": "aqcayVVTMaAF"
      },
      "execution_count": null,
      "outputs": [
        {
          "output_type": "stream",
          "name": "stdout",
          "text": [
            "            date  new_cases  reproduction_rate  reproduction_rate_smoothed\n",
            "64    2020-03-09        0.0                0.0                   13.203782\n",
            "3429  2020-03-16        0.0                0.0                    0.812540\n",
            "10143 2020-03-23        0.0                0.0                    0.034366\n",
            "85    2020-03-30        0.0                0.0                    0.208908\n",
            "6809  2020-04-06        0.0                0.0                    0.284736\n",
            "...          ...        ...                ...                         ...\n",
            "9960  2024-04-22        0.0                0.0                   52.761279\n",
            "8293  2024-04-29        0.0                0.0                    0.032685\n",
            "4941  2024-05-06        0.0                0.0                    4.462695\n",
            "3264  2024-05-13        0.0                0.0                  322.531520\n",
            "11662 2024-05-20        0.0                0.0                    0.002652\n",
            "\n",
            "[177 rows x 4 columns]\n"
          ]
        }
      ]
    },
    {
      "cell_type": "code",
      "source": [
        "df_filtered.to_excel('owid-covid-data_Filtered-mod.xlsx')"
      ],
      "metadata": {
        "id": "WStBYoR3MaAG"
      },
      "execution_count": null,
      "outputs": []
    },
    {
      "cell_type": "code",
      "source": [
        "import pandas as pd\n",
        "\n",
        "#Load Excel Data\n",
        "df_reproduction_rate = pd.read_excel('/content/drive/MyDrive/owid-covid-data_Filtered.xlsx')\n",
        "df_reproduction_rate['new_cases'] = df_reproduction_rate['new_cases'].fillna(0) # Fill missing with 0 or use interpolation\n",
        "\n"
      ],
      "metadata": {
        "id": "68PnclCKMaAG"
      },
      "execution_count": null,
      "outputs": []
    },
    {
      "cell_type": "code",
      "source": [
        "import numpy as np\n",
        "from scipy.stats import gamma\n",
        "\n",
        "# Shows the difference between the time an infector shows symptoms and the onset of symptoms in the person they infected.\n",
        "def discretized_serial_interval(mean_si=5, std_si=2, max_days=15):\n",
        "  shape = (mean_si/std_si)**2\n",
        "  scale = (std_si**2)/mean_si\n",
        "  days = np.arange(1, max_days + 1)\n",
        "  probs = gamma.pdf(days, a=shape, scale=scale)\n",
        "  return probs/probs.sum()"
      ],
      "metadata": {
        "id": "Ix3jlqIgMaAH"
      },
      "execution_count": null,
      "outputs": []
    },
    {
      "cell_type": "code",
      "source": [
        "def estimate_Rt(incidence, si_weights):\n",
        "  Rt_values = [np.nan] * len(incidence)\n",
        "  max_lag = len(si_weights)\n",
        "\n",
        "  for t in range (max_lag, len(incidence)):\n",
        "    past_infectivity = 0\n",
        "    for tau in range (1, max_lag + 1):\n",
        "      past_infectivity += incidence[t - tau] * si_weights[tau - 1]\n",
        "    if past_infectivity > 0:\n",
        "      Rt_values[t]= incidence[t]/past_infectivity\n",
        "    else:\n",
        "      Rt_values[t] = np.nan\n",
        "  return Rt_values"
      ],
      "metadata": {
        "id": "EZ2tNo5QMaAI"
      },
      "execution_count": null,
      "outputs": []
    },
    {
      "cell_type": "code",
      "source": [
        "incidence = df_reproduction_rate['new_cases'].values\n",
        "\n",
        "si_weights = discretized_serial_interval()\n",
        "\n",
        "df_reproduction_rate['reproduction_rate'] = estimate_Rt(incidence, si_weights)"
      ],
      "metadata": {
        "id": "gp12QbA-MaAI"
      },
      "execution_count": null,
      "outputs": []
    },
    {
      "cell_type": "code",
      "source": [
        "df_reproduction_rate.to_excel('with_Rt_output.xlsx', index = False)\n",
        "\n",
        "#Optional : Plot\n",
        "import matplotlib.pyplot as plt\n",
        "\n",
        "plt.figure(figsize=(10, 5))\n",
        "plt.plot(df_reproduction_rate['date'], df_reproduction_rate['reproduction_rate'], label='Observed')\n",
        "plt.axhline(y=1, color='red', linestyle='--', label='Rt = 1 threshold')\n",
        "plt.xlabel('Date')\n",
        "plt.ylabel('Rt')\n",
        "plt.title('Rt Estimation')\n",
        "plt.legend()\n",
        "plt.show()"
      ],
      "metadata": {
        "colab": {
          "base_uri": "https://localhost:8080/",
          "height": 487
        },
        "outputId": "a59ee744-a6d2-40d6-c437-d71da376ec5a",
        "id": "rG6XCDY3MaAI"
      },
      "execution_count": null,
      "outputs": [
        {
          "output_type": "display_data",
          "data": {
            "text/plain": [
              "<Figure size 1000x500 with 1 Axes>"
            ],
            "image/png": "[encoded data removed]"
          },
          "metadata": {}
        }
      ]
    },
    {
      "cell_type": "code",
      "source": [
        "import pandas as pd\n",
        "\n",
        "df = pd.read_excel('/content/drive/MyDrive/owid-covid-data_Filtered.xlsx')\n",
        "\n",
        "missing_counts = df.isna().groupby(df['location']).sum().sum(axis=1)"
      ],
      "metadata": {
        "id": "EgrcQ9-_MaAJ"
      },
      "execution_count": null,
      "outputs": []
    },
    {
      "cell_type": "code",
      "source": [
        "missing_counts"
      ],
      "metadata": {
        "colab": {
          "base_uri": "https://localhost:8080/",
          "height": 335
        },
        "outputId": "9dfa3928-3802-4708-eb9d-3f6502c3bb87",
        "id": "w_ubs0PXMaAJ"
      },
      "execution_count": null,
      "outputs": [
        {
          "output_type": "execute_result",
          "data": {
            "text/plain": [
              "location\n",
              "Australia       39105\n",
              "Canada          32340\n",
              "Chile           34362\n",
              "Czechia         24759\n",
              "Italy           26030\n",
              "Malaysia        26252\n",
              "South Africa    32865\n",
              "dtype: int64"
            ],
            "text/html": [
              "<div>\n",
              "<style scoped>\n",
              "    .dataframe tbody tr th:only-of-type {\n",
              "        vertical-align: middle;\n",
              "    }\n",
              "\n",
              "    .dataframe tbody tr th {\n",
              "        vertical-align: top;\n",
              "    }\n",
              "\n",
              "    .dataframe thead th {\n",
              "        text-align: right;\n",
              "    }\n",
              "</style>\n",
              "<table border=\"1\" class=\"dataframe\">\n",
              "  <thead>\n",
              "    <tr style=\"text-align: right;\">\n",
              "      <th></th>\n",
              "      <th>0</th>\n",
              "    </tr>\n",
              "    <tr>\n",
              "      <th>location</th>\n",
              "      <th></th>\n",
              "    </tr>\n",
              "  </thead>\n",
              "  <tbody>\n",
              "    <tr>\n",
              "      <th>Australia</th>\n",
              "      <td>39105</td>\n",
              "    </tr>\n",
              "    <tr>\n",
              "      <th>Canada</th>\n",
              "      <td>32340</td>\n",
              "    </tr>\n",
              "    <tr>\n",
              "      <th>Chile</th>\n",
              "      <td>34362</td>\n",
              "    </tr>\n",
              "    <tr>\n",
              "      <th>Czechia</th>\n",
              "      <td>24759</td>\n",
              "    </tr>\n",
              "    <tr>\n",
              "      <th>Italy</th>\n",
              "      <td>26030</td>\n",
              "    </tr>\n",
              "    <tr>\n",
              "      <th>Malaysia</th>\n",
              "      <td>26252</td>\n",
              "    </tr>\n",
              "    <tr>\n",
              "      <th>South Africa</th>\n",
              "      <td>32865</td>\n",
              "    </tr>\n",
              "  </tbody>\n",
              "</table>\n",
              "</div><br><label><b>dtype:</b> int64</label>"
            ]
          },
          "metadata": {},
          "execution_count": 16
        }
      ]
    },
    {
      "cell_type": "code",
      "source": [
        "missing_counts.sort_values()"
      ],
      "metadata": {
        "colab": {
          "base_uri": "https://localhost:8080/",
          "height": 335
        },
        "outputId": "84ac04f2-013b-4e9d-91ff-4e81f514b51c",
        "id": "e8ibFtxeMaAJ"
      },
      "execution_count": null,
      "outputs": [
        {
          "output_type": "execute_result",
          "data": {
            "text/plain": [
              "location\n",
              "Czechia         24759\n",
              "Italy           26030\n",
              "Malaysia        26252\n",
              "Canada          32340\n",
              "South Africa    32865\n",
              "Chile           34362\n",
              "Australia       39105\n",
              "dtype: int64"
            ],
            "text/html": [
              "<div>\n",
              "<style scoped>\n",
              "    .dataframe tbody tr th:only-of-type {\n",
              "        vertical-align: middle;\n",
              "    }\n",
              "\n",
              "    .dataframe tbody tr th {\n",
              "        vertical-align: top;\n",
              "    }\n",
              "\n",
              "    .dataframe thead th {\n",
              "        text-align: right;\n",
              "    }\n",
              "</style>\n",
              "<table border=\"1\" class=\"dataframe\">\n",
              "  <thead>\n",
              "    <tr style=\"text-align: right;\">\n",
              "      <th></th>\n",
              "      <th>0</th>\n",
              "    </tr>\n",
              "    <tr>\n",
              "      <th>location</th>\n",
              "      <th></th>\n",
              "    </tr>\n",
              "  </thead>\n",
              "  <tbody>\n",
              "    <tr>\n",
              "      <th>Czechia</th>\n",
              "      <td>24759</td>\n",
              "    </tr>\n",
              "    <tr>\n",
              "      <th>Italy</th>\n",
              "      <td>26030</td>\n",
              "    </tr>\n",
              "    <tr>\n",
              "      <th>Malaysia</th>\n",
              "      <td>26252</td>\n",
              "    </tr>\n",
              "    <tr>\n",
              "      <th>Canada</th>\n",
              "      <td>32340</td>\n",
              "    </tr>\n",
              "    <tr>\n",
              "      <th>South Africa</th>\n",
              "      <td>32865</td>\n",
              "    </tr>\n",
              "    <tr>\n",
              "      <th>Chile</th>\n",
              "      <td>34362</td>\n",
              "    </tr>\n",
              "    <tr>\n",
              "      <th>Australia</th>\n",
              "      <td>39105</td>\n",
              "    </tr>\n",
              "  </tbody>\n",
              "</table>\n",
              "</div><br><label><b>dtype:</b> int64</label>"
            ]
          },
          "metadata": {},
          "execution_count": 17
        }
      ]
    },
    {
      "cell_type": "code",
      "source": [
        "import pandas as pd\n",
        "import numpy as np\n",
        "from sklearn.impute import KNNImputer\n",
        "from sklearn.model_selection import train_test_split\n",
        "from sklearn.preprocessing import StandardScaler\n",
        "from sklearn.neighbors import KNeighborsRegressor\n",
        "from sklearn.metrics import mean_squared_error, r2_score\n",
        "import matplotlib.pyplot as plt\n",
        "\n",
        "# -----------------------------------------------\n",
        "# 1. Load your dataset\n",
        "# -----------------------------------------------\n",
        "# Replace with your actual data source\n",
        "df = pd.read_excel('/content/drive/MyDrive/owid-covid-data_Filtered.xlsx')\n",
        "\n",
        "# Example: Preview data\n",
        "print(df[[\"new_cases\", \"hosp_patients\", \"hosp_patients_per_million\",\n",
        "          \"weekly_hosp_admissions\", \"reproduction_rate\"]].head())\n",
        "\n",
        "# -----------------------------------------------\n",
        "# 2. Select Features & Target\n",
        "# -----------------------------------------------\n",
        "features = [\"new_cases\", \"hosp_patients\", \"hosp_patients_per_million\", \"weekly_hosp_admissions\"]\n",
        "target = \"reproduction_rate\"\n",
        "\n",
        "# Subset the data\n",
        "data = df[features + [target]]\n",
        "\n",
        "# -----------------------------------------------\n",
        "# 3. Impute Missing Values (KNNImputer)\n",
        "# -----------------------------------------------\n",
        "# KNNImputer fills missing values using similar rows (neighbors)\n",
        "imputer = KNNImputer(n_neighbors=5)\n",
        "data_imputed = pd.DataFrame(imputer.fit_transform(data), columns=data.columns)\n",
        "\n",
        "# -----------------------------------------------\n",
        "# 4. Normalize Features\n",
        "# -----------------------------------------------\n",
        "scaler = StandardScaler()\n",
        "X = scaler.fit_transform(data_imputed[features])\n",
        "y = data_imputed[target]\n",
        "\n",
        "# -----------------------------------------------\n",
        "# 5. Train/Test Split\n",
        "# -----------------------------------------------\n",
        "X_train, X_test, y_train, y_test = train_test_split(X, y, test_size=0.2, random_state=42)\n",
        "\n",
        "# -----------------------------------------------\n",
        "# 6. Train KNN Regressor\n",
        "# -----------------------------------------------\n",
        "knn = KNeighborsRegressor(n_neighbors=5)\n",
        "knn.fit(X_train, y_train)\n",
        "y_pred = knn.predict(X_test)\n",
        "\n",
        "# -----------------------------------------------\n",
        "# 7. Evaluation\n",
        "# -----------------------------------------------\n",
        "print(\"R² Score:\", r2_score(y_test, y_pred))\n",
        "print(\"y_test shape:\", y_test.shape)\n",
        "print(\"y_pred shape:\", y_pred.shape)\n",
        "\n",
        "# -----------------------------------------------\n",
        "# 8. Optional: Plot Actual vs Predicted\n",
        "# -----------------------------------------------\n",
        "plt.figure(figsize=(8,5))\n",
        "plt.scatter(y_test, y_pred, alpha=0.6)\n",
        "plt.plot([min(y_test), max(y_test)], [min(y_test), max(y_test)], 'r--')\n",
        "plt.xlabel(\"Actual R₀\")\n",
        "plt.ylabel(\"Predicted R₀\")\n",
        "plt.title(\"KNN Regression: Actual vs Predicted Reproduction Rate\")\n",
        "plt.grid(True)\n",
        "plt.show()\n"
      ],
      "metadata": {
        "colab": {
          "base_uri": "https://localhost:8080/",
          "height": 765
        },
        "outputId": "f148f22d-8f78-4118-982c-c9f4133a0714",
        "id": "895Va5YzMaAJ"
      },
      "execution_count": null,
      "outputs": [
        {
          "output_type": "stream",
          "name": "stdout",
          "text": [
            "   new_cases  hosp_patients  hosp_patients_per_million  \\\n",
            "0        0.0            NaN                        NaN   \n",
            "1        0.0            NaN                        NaN   \n",
            "2        0.0            NaN                        NaN   \n",
            "3        0.0            NaN                        NaN   \n",
            "4        0.0            NaN                        NaN   \n",
            "\n",
            "   weekly_hosp_admissions  reproduction_rate  \n",
            "0                     NaN                NaN  \n",
            "1                     NaN                NaN  \n",
            "2                     NaN                NaN  \n",
            "3                     NaN                NaN  \n",
            "4                     NaN                NaN  \n",
            "R² Score: 0.4697337781322778\n",
            "y_test shape: (2348,)\n",
            "y_pred shape: (2348,)\n"
          ]
        },
        {
          "output_type": "display_data",
          "data": {
            "text/plain": [
              "<Figure size 800x500 with 1 Axes>"
            ],
            "image/png": "[encoded data removed]"
          },
          "metadata": {}
        }
      ]
    },
    {
      "cell_type": "code",
      "source": [
        "import pandas as pd\n",
        "\n",
        "# Reset index before splitting\n",
        "data_imputed = data_imputed.reset_index(drop=True)\n",
        "\n",
        "# Split again with return_index=True\n",
        "from sklearn.model_selection import train_test_split\n",
        "X = data_imputed[features]\n",
        "y = data_imputed[\"reproduction_rate\"]\n",
        "X_train, X_test, y_train, y_test = train_test_split(X, y, test_size=0.2, random_state=42)\n",
        "\n",
        "# Get indices of test set\n",
        "test_indices = X_test.index\n",
        "\n",
        "# Add predictions back\n",
        "data_imputed.loc[test_indices, \"predicted_R0\"] = y_pred\n"
      ],
      "metadata": {
        "id": "2_s_jPa4MaAK"
      },
      "execution_count": null,
      "outputs": []
    },
    {
      "cell_type": "code",
      "source": [
        "# OR: Save the full imputed dataset with predictions\n",
        "data_imputed.to_excel(\"predicted_R0_full_dataset.xlsx\", index=False)\n"
      ],
      "metadata": {
        "id": "be4TsFAGMaAK"
      },
      "execution_count": null,
      "outputs": []
    },
    {
      "cell_type": "code",
      "source": [
        "import pandas as pd\n",
        "from sklearn.impute import KNNImputer\n",
        "\n",
        "# Load your Excel file\n",
        "df = pd.read_excel(\"/content/owid-covid-data_latest_update.xlsx\")\n",
        "\n",
        "# Columns to use for imputation (adjusted for usefulness and availability)\n",
        "features = [\n",
        "    'new_cases', 'new_cases_smoothed', 'total_deaths', 'new_deaths',\n",
        "    'total_cases_per_million', 'new_cases_per_million',\n",
        "    'hosp_patients', 'hosp_patients_per_million', 'weekly_hosp_admissions',\n",
        "    'weekly_hosp_admissions_per_million', 'stringency_index',\n",
        "    'population_density', 'median_age', 'gdp_per_capita',\n",
        "    'diabetes_prevalence', 'hospital_beds_per_thousand',\n",
        "    'life_expectancy', 'human_development_index', 'population',\n",
        "    'reproduction_rate', 'icu_patients_per_million'\n",
        "]\n",
        "\n",
        "# Subset and apply imputer\n",
        "df_impute = df[features].copy()\n",
        "imputer = KNNImputer(n_neighbors=5)\n",
        "imputed = imputer.fit_transform(df_impute)\n",
        "\n",
        "# Replace only the missing values\n",
        "df_imputed = pd.DataFrame(imputed, columns=features)\n",
        "df['icu_patients_per_million'] = df['icu_patients_per_million'].combine_first(df_imputed['icu_patients_per_million'])\n",
        "\n",
        "# Save to Excel\n",
        "df.to_excel(\"owid-covid-data_with_latest_update.xlsx\", index=False)\n",
        "print(\"✅ Saved to 'owid-covid-data_with_latest_update.xlsx'\")\n"
      ],
      "metadata": {
        "colab": {
          "base_uri": "https://localhost:8080/",
          "height": 373
        },
        "outputId": "e60a0d4b-1eda-4877-836f-5436da4edebb",
        "id": "KRm4A7t6MaAL"
      },
      "execution_count": null,
      "outputs": [
        {
          "output_type": "error",
          "ename": "FileNotFoundError",
          "evalue": "[Errno 2] No such file or directory: '/content/owid-covid-data_latest_update.xlsx'",
          "traceback": [
            "\u001b[0;31m---------------------------------------------------------------------------\u001b[0m",
            "\u001b[0;31mFileNotFoundError\u001b[0m                         Traceback (most recent call last)",
            "\u001b[0;32m/tmp/ipython-input-21-2747839555.py\u001b[0m in \u001b[0;36m<cell line: 0>\u001b[0;34m()\u001b[0m\n\u001b[1;32m      3\u001b[0m \u001b[0;34m\u001b[0m\u001b[0m\n\u001b[1;32m      4\u001b[0m \u001b[0;31m# Load your Excel file\u001b[0m\u001b[0;34m\u001b[0m\u001b[0;34m\u001b[0m\u001b[0m\n\u001b[0;32m----> 5\u001b[0;31m \u001b[0mdf\u001b[0m \u001b[0;34m=\u001b[0m \u001b[0mpd\u001b[0m\u001b[0;34m.\u001b[0m\u001b[0mread_excel\u001b[0m\u001b[0;34m(\u001b[0m\u001b[0;34m\"/content/owid-covid-data_latest_update.xlsx\"\u001b[0m\u001b[0;34m)\u001b[0m\u001b[0;34m\u001b[0m\u001b[0;34m\u001b[0m\u001b[0m\n\u001b[0m\u001b[1;32m      6\u001b[0m \u001b[0;34m\u001b[0m\u001b[0m\n\u001b[1;32m      7\u001b[0m \u001b[0;31m# Columns to use for imputation (adjusted for usefulness and availability)\u001b[0m\u001b[0;34m\u001b[0m\u001b[0;34m\u001b[0m\u001b[0m\n",
            "\u001b[0;32m/usr/local/lib/python3.11/dist-packages/pandas/io/excel/_base.py\u001b[0m in \u001b[0;36mread_excel\u001b[0;34m(io, sheet_name, header, names, index_col, usecols, dtype, engine, converters, true_values, false_values, skiprows, nrows, na_values, keep_default_na, na_filter, verbose, parse_dates, date_parser, date_format, thousands, decimal, comment, skipfooter, storage_options, dtype_backend, engine_kwargs)\u001b[0m\n\u001b[1;32m    493\u001b[0m     \u001b[0;32mif\u001b[0m \u001b[0;32mnot\u001b[0m \u001b[0misinstance\u001b[0m\u001b[0;34m(\u001b[0m\u001b[0mio\u001b[0m\u001b[0;34m,\u001b[0m \u001b[0mExcelFile\u001b[0m\u001b[0;34m)\u001b[0m\u001b[0;34m:\u001b[0m\u001b[0;34m\u001b[0m\u001b[0;34m\u001b[0m\u001b[0m\n\u001b[1;32m    494\u001b[0m         \u001b[0mshould_close\u001b[0m \u001b[0;34m=\u001b[0m \u001b[0;32mTrue\u001b[0m\u001b[0;34m\u001b[0m\u001b[0;34m\u001b[0m\u001b[0m\n\u001b[0;32m--> 495\u001b[0;31m         io = ExcelFile(\n\u001b[0m\u001b[1;32m    496\u001b[0m             \u001b[0mio\u001b[0m\u001b[0;34m,\u001b[0m\u001b[0;34m\u001b[0m\u001b[0;34m\u001b[0m\u001b[0m\n\u001b[1;32m    497\u001b[0m             \u001b[0mstorage_options\u001b[0m\u001b[0;34m=\u001b[0m\u001b[0mstorage_options\u001b[0m\u001b[0;34m,\u001b[0m\u001b[0;34m\u001b[0m\u001b[0;34m\u001b[0m\u001b[0m\n",
            "\u001b[0;32m/usr/local/lib/python3.11/dist-packages/pandas/io/excel/_base.py\u001b[0m in \u001b[0;36m__init__\u001b[0;34m(self, path_or_buffer, engine, storage_options, engine_kwargs)\u001b[0m\n\u001b[1;32m   1548\u001b[0m                 \u001b[0mext\u001b[0m \u001b[0;34m=\u001b[0m \u001b[0;34m\"xls\"\u001b[0m\u001b[0;34m\u001b[0m\u001b[0;34m\u001b[0m\u001b[0m\n\u001b[1;32m   1549\u001b[0m             \u001b[0;32melse\u001b[0m\u001b[0;34m:\u001b[0m\u001b[0;34m\u001b[0m\u001b[0;34m\u001b[0m\u001b[0m\n\u001b[0;32m-> 1550\u001b[0;31m                 ext = inspect_excel_format(\n\u001b[0m\u001b[1;32m   1551\u001b[0m                     \u001b[0mcontent_or_path\u001b[0m\u001b[0;34m=\u001b[0m\u001b[0mpath_or_buffer\u001b[0m\u001b[0;34m,\u001b[0m \u001b[0mstorage_options\u001b[0m\u001b[0;34m=\u001b[0m\u001b[0mstorage_options\u001b[0m\u001b[0;34m\u001b[0m\u001b[0;34m\u001b[0m\u001b[0m\n\u001b[1;32m   1552\u001b[0m                 )\n",
            "\u001b[0;32m/usr/local/lib/python3.11/dist-packages/pandas/io/excel/_base.py\u001b[0m in \u001b[0;36minspect_excel_format\u001b[0;34m(content_or_path, storage_options)\u001b[0m\n\u001b[1;32m   1400\u001b[0m         \u001b[0mcontent_or_path\u001b[0m \u001b[0;34m=\u001b[0m \u001b[0mBytesIO\u001b[0m\u001b[0;34m(\u001b[0m\u001b[0mcontent_or_path\u001b[0m\u001b[0;34m)\u001b[0m\u001b[0;34m\u001b[0m\u001b[0;34m\u001b[0m\u001b[0m\n\u001b[1;32m   1401\u001b[0m \u001b[0;34m\u001b[0m\u001b[0m\n\u001b[0;32m-> 1402\u001b[0;31m     with get_handle(\n\u001b[0m\u001b[1;32m   1403\u001b[0m         \u001b[0mcontent_or_path\u001b[0m\u001b[0;34m,\u001b[0m \u001b[0;34m\"rb\"\u001b[0m\u001b[0;34m,\u001b[0m \u001b[0mstorage_options\u001b[0m\u001b[0;34m=\u001b[0m\u001b[0mstorage_options\u001b[0m\u001b[0;34m,\u001b[0m \u001b[0mis_text\u001b[0m\u001b[0;34m=\u001b[0m\u001b[0;32mFalse\u001b[0m\u001b[0;34m\u001b[0m\u001b[0;34m\u001b[0m\u001b[0m\n\u001b[1;32m   1404\u001b[0m     ) as handle:\n",
            "\u001b[0;32m/usr/local/lib/python3.11/dist-packages/pandas/io/common.py\u001b[0m in \u001b[0;36mget_handle\u001b[0;34m(path_or_buf, mode, encoding, compression, memory_map, is_text, errors, storage_options)\u001b[0m\n\u001b[1;32m    880\u001b[0m         \u001b[0;32melse\u001b[0m\u001b[0;34m:\u001b[0m\u001b[0;34m\u001b[0m\u001b[0;34m\u001b[0m\u001b[0m\n\u001b[1;32m    881\u001b[0m             \u001b[0;31m# Binary mode\u001b[0m\u001b[0;34m\u001b[0m\u001b[0;34m\u001b[0m\u001b[0m\n\u001b[0;32m--> 882\u001b[0;31m             \u001b[0mhandle\u001b[0m \u001b[0;34m=\u001b[0m \u001b[0mopen\u001b[0m\u001b[0;34m(\u001b[0m\u001b[0mhandle\u001b[0m\u001b[0;34m,\u001b[0m \u001b[0mioargs\u001b[0m\u001b[0;34m.\u001b[0m\u001b[0mmode\u001b[0m\u001b[0;34m)\u001b[0m\u001b[0;34m\u001b[0m\u001b[0;34m\u001b[0m\u001b[0m\n\u001b[0m\u001b[1;32m    883\u001b[0m         \u001b[0mhandles\u001b[0m\u001b[0;34m.\u001b[0m\u001b[0mappend\u001b[0m\u001b[0;34m(\u001b[0m\u001b[0mhandle\u001b[0m\u001b[0;34m)\u001b[0m\u001b[0;34m\u001b[0m\u001b[0;34m\u001b[0m\u001b[0m\n\u001b[1;32m    884\u001b[0m \u001b[0;34m\u001b[0m\u001b[0m\n",
            "\u001b[0;31mFileNotFoundError\u001b[0m: [Errno 2] No such file or directory: '/content/owid-covid-data_latest_update.xlsx'"
          ]
        }
      ]
    },
    {
      "cell_type": "code",
      "source": [
        "import matplotlib.pyplot as plt\n",
        "\n",
        "df_SouthAfrica = df[df['location']=='South Africa']\n",
        "df_Malaysia = df[df['location']=='Malaysia']\n",
        "df_Czechia = df[df['location']=='Czechia']\n",
        "df_Australia = df[df['location']=='Australia']\n",
        "df_Canada = df[df['location']=='Canada']\n",
        "df_Chile = df[df['location']=='Chile']\n",
        "\n",
        "plt.plot(df_SouthAfrica['date'], df_SouthAfrica['icu_patients_per_million'], color ='Yellow', label='South Africa')\n",
        "plt.plot(df_Malaysia['date'], df_Malaysia['icu_patients_per_million'], color ='Green', label='Malaysia')\n",
        "plt.plot(df_Czechia['date'], df_Czechia['icu_patients_per_million'], color ='Blue', label='Czechia')\n",
        "plt.plot(df_Australia['date'], df_Australia['icu_patients_per_million'], color ='Red', label='Australia')\n",
        "plt.plot(df_Canada['date'], df_Canada['icu_patients_per_million'], color ='Black', label='Canada')\n",
        "plt.plot(df_Chile['date'], df_Chile['icu_patients_per_million'], color = 'orange', label='Chile')\n",
        "\n",
        "plt.xlabel('Date')\n",
        "plt.ylabel('ICU Patients per Million')\n",
        "plt.title('ICU Patients per Million over Time by Location')\n",
        "plt.legend()\n",
        "plt.show()"
      ],
      "metadata": {
        "id": "5SwiRvFGMaAL"
      },
      "execution_count": null,
      "outputs": []
    },
    {
      "cell_type": "code",
      "source": [
        "missing_counts = df.isna().groupby(df['location']).sum().sum(axis=1)\n",
        "missing_counts.sort_values()"
      ],
      "metadata": {
        "id": "qGy4c5EbMaAL"
      },
      "execution_count": null,
      "outputs": []
    },
    {
      "cell_type": "code",
      "source": [
        "plt.plot(df_SouthAfrica['date'], df_SouthAfrica['icu_patients'])"
      ],
      "metadata": {
        "id": "Yp5Ywhy0MaAM"
      },
      "execution_count": null,
      "outputs": []
    },
    {
      "cell_type": "code",
      "source": [
        "import matplotlib.pyplot as plt\n",
        "\n",
        "df_SouthAfrica = df[df['location']=='South Africa']\n",
        "df_Malaysia = df[df['location']=='Malaysia']\n",
        "df_Czechia = df[df['location']=='Czechia']\n",
        "df_Australia = df[df['location']=='Australia']\n",
        "df_Canada = df[df['location']=='Canada']\n",
        "df_Chile = df[df['location']=='Chile']\n",
        "\n",
        "plt.plot(df_SouthAfrica['date'], df_SouthAfrica['icu_patients'], color ='Yellow', label='South Africa')\n",
        "plt.plot(df_Malaysia['date'], df_Malaysia['icu_patients'], color ='Green', label='Malaysia')\n",
        "plt.plot(df_Czechia['date'], df_Czechia['icu_patients'], color ='Blue', label='Czechia')\n",
        "plt.plot(df_Australia['date'], df_Australia['icu_patients'], color ='Red', label='Australia')\n",
        "plt.plot(df_Canada['date'], df_Canada['icu_patients'], color ='Black', label='Canada')\n",
        "plt.plot(df_Chile['date'], df_Chile['icu_patients'], color = 'orange', label='Chile')\n",
        "\n",
        "plt.xlabel('Date')\n",
        "plt.ylabel('ICU Patients per Million')\n",
        "plt.title('ICU Patients per Million over Time by Location')\n",
        "plt.legend()\n",
        "plt.show()"
      ],
      "metadata": {
        "id": "P9jcRn6SMaAM"
      },
      "execution_count": null,
      "outputs": []
    },
    {
      "cell_type": "code",
      "source": [
        "# Impute ICU patients in the dataset\n",
        "import pandas as pd\n",
        "from sklearn.linear_model import LinearRegression\n",
        "from sklearn.model_selection import train_test_split\n",
        "from sklearn.metrics import mean_squared_error\n",
        "import numpy as np\n",
        "from sklearn.impute import KNNImputer # Import KNNImputer\n",
        "\n",
        "# Load the dataset\n",
        "df = pd.read_excel(\"/content/owid-covid-data_with_latest_update.xlsx\")\n",
        "\n",
        "# Drop non-numeric columns\n",
        "df = df.select_dtypes(include=['number'])\n",
        "\n",
        "# Choose features that may help predict ICU admissions\n",
        "features = [\n",
        "    'new_cases', 'new_deaths', 'hosp_patients', 'weekly_hosp_admissions',\n",
        "    'reproduction_rate', 'stringency_index', 'population', 'population_density',\n",
        "    'diabetes_prevalence', 'hospital_beds_per_thousand',\n",
        "    'life_expectancy', 'median_age', 'gdp_per_capita'\n",
        "]\n",
        "\n",
        "# Keep only available columns\n",
        "features = [col for col in features if col in df.columns and col != 'icu_patients']\n",
        "\n",
        "# Split rows with and without ICU data\n",
        "df_known = df[df['icu_patients'].notna()].copy()\n",
        "df_missing = df[df['icu_patients'].isna()].copy()\n",
        "\n",
        "# Remove rows with missing values in features for training\n",
        "df_known = df_known.dropna(subset=features)\n",
        "\n",
        "#Train regression model\n",
        "X_train = df_known[features]\n",
        "y_train = df_known['icu_patients']\n",
        "model = LinearRegression()\n",
        "model.fit(X_train, y_train)\n",
        "\n",
        "# Evaluate performance\n",
        "X_test = df_known[features]\n",
        "y_test = df_known['icu_patients']\n",
        "from math import sqrt\n",
        "rmse = sqrt(mean_squared_error(y_test, model.predict(X_test)))\n",
        "\n",
        "print(f\"✅ Model trained. RMSE on known data: {rmse:.2f} ICU patients\")\n",
        "\n",
        "#Predict and impute missing ICU values in df_missing\n",
        "X_missing = df_missing[features]\n",
        "\n",
        "# Impute missing values in X_missing\n",
        "imputer = KNNImputer(n_neighbors=5)\n",
        "X_missing_imputed = imputer.fit_transform(X_missing)\n",
        "X_missing_imputed_df = pd.DataFrame(X_missing_imputed, columns=features, index=X_missing.index)\n",
        "\n",
        "\n",
        "# Predict on the imputed missing data\n",
        "predicted_icu = model.predict(X_missing_imputed_df)\n",
        "\n",
        "# Impute the 'icu_patients' column in the original DataFrame\n",
        "df.loc[df['icu_patients'].isna(), 'icu_patients'] = predicted_icu\n",
        "\n",
        "\n",
        "# Save to Excel\n",
        "df.to_excel(\"owid-covid-data_with_icu_imputed.xlsx\", index=False)\n",
        "print(\"✅ File saved as 'owid-covid-data_with_icu_imputed.xlsx'\")"
      ],
      "metadata": {
        "id": "LxmJ4vBQMaAM"
      },
      "execution_count": null,
      "outputs": []
    },
    {
      "cell_type": "code",
      "source": [
        "import pandas as pd\n",
        "import numpy as np\n",
        "from sklearn.ensemble import RandomForestRegressor\n",
        "from sklearn.impute import SimpleImputer\n",
        "from sklearn.model_selection import train_test_split\n",
        "\n",
        "# Load your dataset\n",
        "df = pd.read_excel(\"/content/owid-covid-data_with_latest_update.xlsx\")\n",
        "\n",
        "# 1. Drop all string and datetime columns to retain only usable numeric features\n",
        "df_numeric = df.select_dtypes(include=[np.number]).copy()\n",
        "\n",
        "# 2. Identify rows with and without ICU patient values\n",
        "df_with_icu = df_numeric[df_numeric['icu_patients'].notna()]\n",
        "df_missing_icu = df_numeric[df_numeric['icu_patients'].isna()]\n",
        "\n",
        "# 3. Select features (exclude target column)\n",
        "features = df_numeric.columns.drop('icu_patients')\n",
        "\n",
        "# 4. Impute missing feature values\n",
        "imputer = SimpleImputer(strategy=\"mean\")\n",
        "X_full = imputer.fit_transform(df_with_icu[features])\n",
        "y_full = df_with_icu['icu_patients']\n",
        "\n",
        "# 5. Train a fast, accurate model\n",
        "model = RandomForestRegressor(n_estimators=100, random_state=42)\n",
        "model.fit(X_full, y_full)\n",
        "\n",
        "# 6. Predict missing ICU patients\n",
        "X_missing = imputer.transform(df_missing_icu[features])\n",
        "icu_predicted = model.predict(X_missing)\n",
        "\n",
        "# 7. Ensure predictions are non-negative integers\n",
        "icu_predicted = np.maximum(icu_predicted, 0)  # eliminate negatives\n",
        "icu_predicted = np.round(icu_predicted).astype(int)  # round to integers\n",
        "\n",
        "# 8. Fill back into original dataframe\n",
        "df.loc[df['icu_patients'].isna(), 'icu_patients'] = icu_predicted\n",
        "\n",
        "# 9. Save to Excel\n",
        "df.to_excel(\"owid-covid-data_with_icu_predictions.xlsx\", index=False)\n",
        "print(\"✅ Saved updated file: 'owid-covid-data_with_icu_predictions.xlsx'\")\n"
      ],
      "metadata": {
        "id": "z8oHRSkVMaAN"
      },
      "execution_count": null,
      "outputs": []
    },
    {
      "cell_type": "code",
      "source": [
        "import pandas as pd\n",
        "import numpy as np\n",
        "from sklearn.ensemble import RandomForestRegressor\n",
        "from sklearn.impute import SimpleImputer\n",
        "from sklearn.preprocessing import OrdinalEncoder\n",
        "from datetime import datetime\n",
        "\n",
        "# Load your dataset\n",
        "df = pd.read_excel(\"/content/owid-covid-data_with_latest_update.xlsx\")\n",
        "\n",
        "# 1. Convert date column to datetime if not already\n",
        "df['date'] = pd.to_datetime(df['date'], errors='coerce')\n",
        "\n",
        "# 2. Add numeric date (for trend modeling)\n",
        "df['date_ordinal'] = df['date'].map(datetime.toordinal)\n",
        "\n",
        "# 3. Drop non-numeric columns except 'location' (we'll handle it separately)\n",
        "keep_cols = df.select_dtypes(include=[np.number]).columns.tolist() + ['location']\n",
        "df = df[keep_cols]\n",
        "\n",
        "# 4. Track final predictions for merging\n",
        "df['icu_predicted'] = df['icu_patients']\n",
        "\n",
        "# 5. Prepare a loop per country\n",
        "countries = df['location'].dropna().unique()\n",
        "\n",
        "for country in countries:\n",
        "    sub_df = df[df['location'] == country]\n",
        "\n",
        "    # Must have some known ICU data to train\n",
        "    if sub_df['icu_patients'].notna().sum() < 10:\n",
        "        continue\n",
        "\n",
        "    # Features (drop ICU, include date_ordinal)\n",
        "    features = sub_df.columns.drop(['icu_patients', 'icu_predicted', 'location'])\n",
        "    df_train = sub_df[sub_df['icu_patients'].notna()]\n",
        "    df_missing = sub_df[sub_df['icu_patients'].isna()]\n",
        "\n",
        "    if df_missing.empty:\n",
        "        continue\n",
        "\n",
        "    # Impute missing feature values\n",
        "    imputer = SimpleImputer(strategy=\"mean\")\n",
        "    X_train = imputer.fit_transform(df_train[features])\n",
        "    y_train = df_train['icu_patients']\n",
        "    X_missing = imputer.transform(df_missing[features])\n",
        "\n",
        "    # Train model\n",
        "    model = RandomForestRegressor(n_estimators=100, random_state=42)\n",
        "    model.fit(X_train, y_train)\n",
        "\n",
        "    # Predict\n",
        "    y_pred = model.predict(X_missing)\n",
        "    y_pred = np.maximum(y_pred, 0)  # No negatives\n",
        "    y_pred = np.round(y_pred).astype(int)\n",
        "\n",
        "    # Fill into main df\n",
        "    df.loc[(df['location'] == country) & (df['icu_patients'].isna()), 'icu_predicted'] = y_pred\n",
        "\n",
        "# 6. Replace original ICU column with predicted where missing\n",
        "df['icu_patients'] = df['icu_patients'].combine_first(df['icu_predicted'])\n",
        "df = df.drop(columns=['icu_predicted'])\n",
        "\n",
        "# 7. Save to Excel\n",
        "df.to_excel(\"owid-covid-data_with_icu_predictions_realistic.xlsx\", index=False)\n",
        "print(\"✅ Saved: 'owid-covid-data_with_icu_predictions_realistic.xlsx'\")\n"
      ],
      "metadata": {
        "id": "SPwbZG1vMaAN"
      },
      "execution_count": null,
      "outputs": []
    },
    {
      "cell_type": "code",
      "source": [],
      "metadata": {
        "id": "2xRZJKgJMaAN"
      },
      "execution_count": null,
      "outputs": []
    },
    {
      "cell_type": "code",
      "source": [
        "import pandas as pd\n",
        "import numpy as np\n",
        "from sklearn.ensemble import HistGradientBoostingRegressor\n",
        "\n",
        "# Load the dataset\n",
        "df = pd.read_excel(\"/content/owid-covid-data_with_latest_update.xlsx\")\n",
        "\n",
        "# Convert 'date' column to datetime\n",
        "if df['date'].dtype == object:\n",
        "    df['date'] = pd.to_datetime(df['date'])\n",
        "\n",
        "# Drop string and object columns except 'location' and 'date'\n",
        "drop_cols = df.select_dtypes(include=['object', 'string']).columns.difference(['location', 'date'])\n",
        "df = df.drop(columns=drop_cols)\n",
        "\n",
        "# Define features (all numeric except icu_patients and identifiers)\n",
        "features = df.select_dtypes(include=[np.number]).columns.difference(['icu_patients']).tolist()\n",
        "\n",
        "# Prepare for imputation\n",
        "df = df.sort_values(['location', 'date'])\n",
        "df['icu_patients_imputed'] = df['icu_patients']\n",
        "\n",
        "# Initialize model\n",
        "model = HistGradientBoostingRegressor(random_state=42)\n",
        "\n",
        "# Track countries skipped\n",
        "skipped_countries = []\n",
        "successful_countries = []\n",
        "\n",
        "# Iterate per country\n",
        "for country in df['location'].unique():\n",
        "    country_df = df[df['location'] == country].copy()\n",
        "\n",
        "    known = country_df[country_df['icu_patients'].notna()]\n",
        "    unknown = country_df[country_df['icu_patients'].isna()]\n",
        "\n",
        "    if len(known) < 5 or len(unknown) == 0:\n",
        "        skipped_countries.append(country)\n",
        "        continue\n",
        "\n",
        "    # Prepare training data\n",
        "    X_train = known[features].dropna()\n",
        "    y_train = known.loc[X_train.index, 'icu_patients']\n",
        "\n",
        "    if X_train.empty:\n",
        "        skipped_countries.append(country)\n",
        "        continue\n",
        "\n",
        "    # Train model\n",
        "    model.fit(X_train, y_train)\n",
        "\n",
        "    # Predict on unknown rows that have no NaNs\n",
        "    X_pred = unknown[features].dropna()\n",
        "\n",
        "    if X_pred.empty:\n",
        "        skipped_countries.append(country)\n",
        "        continue\n",
        "\n",
        "    y_pred = model.predict(X_pred)\n",
        "    y_pred = np.round(np.clip(y_pred, 0, None)).astype(int)\n",
        "\n",
        "    # Impute values\n",
        "    df.loc[X_pred.index, 'icu_patients_imputed'] = y_pred\n",
        "    successful_countries.append(country)\n",
        "\n",
        "# Finalize: replace original column\n",
        "df['icu_patients'] = df['icu_patients'].combine_first(df['icu_patients_imputed'])\n",
        "df.drop(columns='icu_patients_imputed', inplace=True)\n",
        "\n",
        "# Save output\n",
        "df.to_excel(\"owid-covid-data_with_icu_patients_imputed.xlsx\", index=False)\n",
        "\n",
        "# Output status\n",
        "print(\"✅ Done. File saved as: 'owid-covid-data_with_icu_patients_imputed.xlsx'\")\n",
        "print(f\"✅ Countries successfully predicted: {len(successful_countries)}\")\n",
        "print(f\"⚠️ Countries skipped due to data issues: {skipped_countries}\")\n"
      ],
      "metadata": {
        "id": "GUzy0-ApMaAN"
      },
      "execution_count": null,
      "outputs": []
    },
    {
      "cell_type": "code",
      "source": [
        "import pandas as pd\n",
        "import numpy as np\n",
        "from sklearn.ensemble import HistGradientBoostingRegressor\n",
        "from sklearn.model_selection import train_test_split\n",
        "from sklearn.metrics import mean_squared_error\n",
        "from sklearn.preprocessing import OrdinalEncoder\n",
        "\n",
        "# 1. Load dataset\n",
        "df = pd.read_excel(\"/content/owid-covid-data_with_latest_update.xlsx\")\n",
        "\n",
        "# 2. Convert date column if necessary\n",
        "if df['date'].dtype == 'O':\n",
        "    df['date'] = pd.to_datetime(df['date'])\n",
        "\n",
        "# 3. Add time progression feature\n",
        "df['days_since_first_entry'] = df.groupby('location')['date'].transform(lambda x: (x - x.min()).dt.days)\n",
        "\n",
        "# 4. Drop columns with non-numeric types (excluding 'location' for encoding)\n",
        "df_numeric = df.copy()\n",
        "non_numeric_cols = df_numeric.select_dtypes(include=['object', 'datetime']).columns.tolist()\n",
        "non_numeric_cols = [col for col in non_numeric_cols if col != 'location']\n",
        "df_numeric.drop(columns=non_numeric_cols, inplace=True)\n",
        "\n",
        "# 5. Encode 'location'\n",
        "encoder = OrdinalEncoder()\n",
        "df_numeric['location'] = encoder.fit_transform(df[['location']])\n",
        "\n",
        "# 6. Define features and target\n",
        "features = df_numeric.columns.drop('icu_patients')\n",
        "target = 'icu_patients'\n",
        "\n",
        "# 7. Split into known and missing ICU data\n",
        "df_known = df_numeric[df_numeric['icu_patients'].notna()]\n",
        "df_missing = df_numeric[df_numeric['icu_patients'].isna()]\n",
        "\n",
        "# 8. Train model\n",
        "X = df_known[features]\n",
        "y = df_known[target]\n",
        "X_train, X_test, y_train, y_test = train_test_split(X, y, test_size=0.2, random_state=42)\n",
        "\n",
        "model = HistGradientBoostingRegressor(max_iter=500)\n",
        "model.fit(X_train, y_train)\n",
        "\n",
        "# 9. Evaluate\n",
        "y_pred = model.predict(X_test)\n",
        "rmse = np.sqrt(mean_squared_error(y_test, y_pred))\n",
        "\n",
        "print(f\"✅ Model trained. RMSE: {rmse:.2f} ICU patients\")\n",
        "\n",
        "# 10. Predict and round ICU patients\n",
        "X_missing = df_missing[features]\n",
        "icu_pred = model.predict(X_missing)\n",
        "icu_pred = np.maximum(np.round(icu_pred), 0)  # no negatives\n",
        "\n",
        "# 11. Impute predicted values into original df\n",
        "df.loc[df['icu_patients'].isna(), 'icu_patients'] = icu_pred\n",
        "\n",
        "# 12. Save result\n",
        "df.to_excel(\"owid-covid-data_with_icu_imputed.xlsx\", index=False)\n",
        "print(\"✅ File saved as 'owid-covid-data_with_icu_imputed.xlsx'\")\n"
      ],
      "metadata": {
        "id": "-wz3AscZMaAO"
      },
      "execution_count": null,
      "outputs": []
    },
    {
      "cell_type": "code",
      "source": [
        "missing_counts = df.isna().groupby(df['location']).sum().sum(axis=1)\n",
        "missing_counts.sort_values()"
      ],
      "metadata": {
        "id": "3cN_mkGiMaAO"
      },
      "execution_count": null,
      "outputs": []
    },
    {
      "cell_type": "code",
      "source": [
        "import pandas as pd\n",
        "import numpy as np\n",
        "from sklearn.model_selection import train_test_split\n",
        "from xgboost import XGBRegressor\n",
        "from sklearn.metrics import mean_squared_error\n",
        "from datetime import timedelta\n",
        "\n",
        "# 1. Load data\n",
        "df = pd.read_excel(\"/content/owid-covid-data_with_latest_update.xlsx\")\n",
        "\n",
        "# 2. Ensure date is datetime\n",
        "df['date'] = pd.to_datetime(df['date'])\n",
        "\n",
        "# 3. Sort and create lag features\n",
        "df = df.sort_values(['location', 'date'])\n",
        "for lag in [1, 3, 7]:\n",
        "    df[f'new_cases_lag_{lag}'] = df.groupby('location')['new_cases'].shift(lag)\n",
        "    df[f'new_deaths_lag_{lag}'] = df.groupby('location')['new_deaths'].shift(lag)\n",
        "    df[f'hosp_patients_lag_{lag}'] = df.groupby('location')['hosp_patients'].shift(lag)\n",
        "\n",
        "# 4. Derived feature: days since first case\n",
        "df['days_since_first_case'] = df.groupby('location')['new_cases'].cumsum().gt(0).groupby(df['location']).cumsum()\n",
        "\n",
        "# 5. Filter where ICU data is known\n",
        "target = 'icu_patients'\n",
        "features = [\n",
        "    'new_cases', 'new_deaths', 'total_cases', 'total_deaths',\n",
        "    'hosp_patients', 'population', 'stringency_index',\n",
        "    'population_density', 'median_age', 'gdp_per_capita',\n",
        "    'diabetes_prevalence', 'hospital_beds_per_thousand',\n",
        "    'life_expectancy', 'human_development_index', 'days_since_first_case',\n",
        "    'new_cases_lag_1', 'new_cases_lag_3', 'new_cases_lag_7',\n",
        "    'new_deaths_lag_1', 'new_deaths_lag_3', 'new_deaths_lag_7',\n",
        "    'hosp_patients_lag_1', 'hosp_patients_lag_3', 'hosp_patients_lag_7'\n",
        "]\n",
        "\n",
        "# Remove rows with missing values in features or target\n",
        "train_df = df[df[target].notna()].dropna(subset=features)\n",
        "\n",
        "# 6. Split and train model\n",
        "X = train_df[features]\n",
        "y = train_df[target]\n",
        "X_train, X_test, y_train, y_test = train_test_split(X, y, test_size=0.2, shuffle=True)\n",
        "\n",
        "model = XGBRegressor(n_estimators=200, learning_rate=0.05, max_depth=6, random_state=42)\n",
        "model.fit(X_train, y_train)\n",
        "\n",
        "# 7. Evaluate\n",
        "y_pred = model.predict(X_test)\n",
        "rmse = np.sqrt(mean_squared_error(y_test, y_pred))\n",
        "print(f\"✅ Model trained. RMSE: {rmse:.2f} ICU patients\")\n",
        "\n",
        "# 8. Predict missing ICU values\n",
        "missing_mask = df[target].isna()\n",
        "X_missing = df.loc[missing_mask, features].copy()\n",
        "X_missing = X_missing.dropna()\n",
        "\n",
        "preds = model.predict(X_missing)\n",
        "preds = np.round(np.maximum(preds, 0)).astype(int)  # Ensure realistic ICU values\n",
        "\n",
        "# Insert predictions\n",
        "df.loc[X_missing.index, target] = preds\n",
        "\n",
        "# 9. Save to Excel\n",
        "df.to_excel(\"owid-covid-data_imputed_icu.xlsx\", index=False)\n",
        "print(\"✅ Final dataset saved to 'owid-covid-data_imputed_icu.xlsx'\")\n"
      ],
      "metadata": {
        "id": "c9ZxWIZlMaAQ"
      },
      "execution_count": null,
      "outputs": []
    },
    {
      "cell_type": "code",
      "source": [
        "import pandas as pd\n",
        "import numpy as np\n",
        "from sklearn.ensemble import GradientBoostingRegressor\n",
        "from sklearn.model_selection import train_test_split\n",
        "from sklearn.metrics import mean_squared_error\n",
        "from sklearn.impute import SimpleImputer # Import SimpleImputer\n",
        "\n",
        "# 1. Load your filtered dataset\n",
        "df = pd.read_excel('/content/owid-covid-data_with_latest_update.xlsx')\n",
        "\n",
        "# 2. Ensure date and sorting\n",
        "df['date'] = pd.to_datetime(df['date'])\n",
        "df.sort_values(['location', 'date'], inplace=True)\n",
        "\n",
        "# 3. Time progression\n",
        "df['days_since_start'] = df.groupby('location')['date'].transform(lambda x: (x - x.min()).dt.days)\n",
        "\n",
        "# 4. Lag features\n",
        "df['new_cases_lag1'] = df.groupby('location')['new_cases'].shift(1)\n",
        "df['new_deaths_lag1'] = df.groupby('location')['new_deaths'].shift(1)\n",
        "\n",
        "# 5. Epidemiological logic flag\n",
        "df['epidemic_inactive'] = ((df['total_cases'].fillna(0) == 0) & (df['total_deaths'].fillna(0) == 0)).astype(int)\n",
        "\n",
        "# 6. Keep only numeric features\n",
        "numeric_df = df.select_dtypes(include=[np.number]).copy()\n",
        "\n",
        "# 7. Define target and drop it from features\n",
        "target = 'icu_patients'\n",
        "available_features = numeric_df.columns.drop(target)\n",
        "\n",
        "# 8. Prepare training data\n",
        "df_train = df[df[target].notna()].copy()\n",
        "\n",
        "# Impute missing values in training features\n",
        "imputer = SimpleImputer(strategy=\"mean\")\n",
        "X = imputer.fit_transform(df_train[available_features])\n",
        "y = df_train[target]\n",
        "\n",
        "# 9. Split data\n",
        "X_train, X_test, y_train, y_test = train_test_split(X, y, test_size=0.2, random_state=42)\n",
        "\n",
        "# 10. Train model\n",
        "model = GradientBoostingRegressor(n_estimators=400, max_depth=6, learning_rate=0.1, random_state=42)\n",
        "model.fit(X_train, y_train)\n",
        "\n",
        "# 11. Evaluate model\n",
        "y_pred = model.predict(X_test)\n",
        "\n",
        "print(f\"✅ Model trained. RMSE: {rmse:.2f} ICU patients\")\n",
        "\n",
        "# 12. Impute missing values in the prediction set as well\n",
        "missing_mask = df['icu_patients'].isna()\n",
        "X_missing = df.loc[missing_mask, available_features].copy()\n",
        "\n",
        "# Impute missing values in the prediction features\n",
        "X_missing_imputed = imputer.transform(X_missing)\n",
        "\n",
        "\n",
        "icu_pred = model.predict(X_missing_imputed)\n",
        "\n",
        "# 13. Apply epidemiological logic\n",
        "# Ensure X_missing_imputed has the same index as the original df for alignment\n",
        "X_missing_imputed_df = pd.DataFrame(X_missing_imputed, columns=available_features, index=X_missing.index)\n",
        "\n",
        "icu_pred[(X_missing_imputed_df['epidemic_inactive'] == 1) | (X_missing_imputed_df['new_cases'] == 0)] = 0\n",
        "icu_pred = np.round(np.maximum(icu_pred, 0)).astype(int)\n",
        "\n",
        "\n",
        "# 14. Fill in predictions\n",
        "df.loc[X_missing_imputed_df.index, 'icu_patients'] = icu_pred\n",
        "\n",
        "# 15. Save result\n",
        "\n",
        "df.to_excel('owid-covid-data_with_icu_imputed.xlsx', index=False)"
      ],
      "metadata": {
        "id": "zVFfR2H3MaAQ"
      },
      "execution_count": null,
      "outputs": []
    },
    {
      "cell_type": "code",
      "source": [
        "df=pd.read_excel('/content/owid-covid-data_with_latest_update_2.xlsx')\n",
        "\n",
        "missing_counts = df.isna().groupby(df['location']).sum().sum(axis=1)\n",
        "missing_counts.sort_values()"
      ],
      "metadata": {
        "id": "TNEwX3XmMaAQ"
      },
      "execution_count": null,
      "outputs": []
    },
    {
      "cell_type": "code",
      "source": [
        "import pandas as pd\n",
        "import matplotlib.pyplot as plt\n",
        "\n",
        "\n",
        "df = pd.read_excel('/content/owid-covid-data_with_latest_update_2.xlsx')\n",
        "\n",
        "df_SouthAfrica = df[df['location']=='South Africa']\n",
        "df_Malaysia = df[df['location']=='Malaysia']\n",
        "df_Czechia = df[df['location']=='Czechia']\n",
        "df_Australia = df[df['location']=='Australia']\n",
        "df_Canada = df[df['location']=='Canada']\n",
        "df_Chile = df[df['location']=='Chile']\n"
      ],
      "metadata": {
        "id": "CKH0EsEyMaAQ"
      },
      "execution_count": null,
      "outputs": []
    },
    {
      "cell_type": "code",
      "source": [
        "plt.plot(df_SouthAfrica['date'], df_SouthAfrica['new_cases'], linestyle = \"-\", label = 'Number of new cases')\n",
        "\n",
        "\n",
        "plt.xlabel('Year')\n",
        "plt.ylabel('Number of new cases')\n",
        "plt.title('South Africa')\n",
        "plt.legend()\n",
        "plt.show()"
      ],
      "metadata": {
        "id": "zaCwnVb7MaAR"
      },
      "execution_count": null,
      "outputs": []
    },
    {
      "cell_type": "code",
      "source": [
        "plt.plot(df_SouthAfrica['date'], df_SouthAfrica['new_cases_smoothed'], label = 'New Cases Smoothed')\n",
        "\n",
        "\n",
        "plt.xlabel('Year')\n",
        "plt.ylabel('New cases Smoothed')\n",
        "plt.title('South Africa')\n",
        "plt.legend()\n",
        "plt.show()"
      ],
      "metadata": {
        "id": "5kiyE61wMaAR"
      },
      "execution_count": null,
      "outputs": []
    },
    {
      "cell_type": "code",
      "source": [
        "plt.plot(df_SouthAfrica['date'], df_SouthAfrica['total_cases'], linestyle = \"-\", label = 'Total Cases')\n",
        "\n",
        "\n",
        "plt.xlabel('Year')\n",
        "plt.ylabel('Total cases')\n",
        "plt.title('South Africa')\n",
        "plt.legend()\n",
        "plt.show()"
      ],
      "metadata": {
        "id": "_oEslDwuMaAR"
      },
      "execution_count": null,
      "outputs": []
    },
    {
      "cell_type": "code",
      "source": [
        "plt.plot(df_Malaysia['date'], df_Malaysia['new_cases'], linestyle = \"-\", label = 'New Cases')\n",
        "\n",
        "\n",
        "plt.xlabel('Year')\n",
        "plt.ylabel('New cases')\n",
        "plt.title('Malaysia')\n",
        "plt.legend()\n",
        "plt.show()"
      ],
      "metadata": {
        "id": "ti0ZYfyRMaAR"
      },
      "execution_count": null,
      "outputs": []
    },
    {
      "cell_type": "code",
      "source": [
        "plt.plot(df_Malaysia['date'], df_Malaysia['new_cases_smoothed'], linestyle = \"-\", label = 'New Cases Smoothed')\n",
        "\n",
        "\n",
        "plt.xlabel('Year')\n",
        "plt.ylabel('New cases Smoothed')\n",
        "plt.title('Malaysia')\n",
        "plt.legend()\n",
        "plt.show()"
      ],
      "metadata": {
        "id": "qJhf_LpaMaAR"
      },
      "execution_count": null,
      "outputs": []
    },
    {
      "cell_type": "code",
      "source": [
        "plt.plot(df_Malaysia['date'], df_Malaysia['total_cases'], linestyle = \"-\", label = 'Total Cases')\n",
        "\n",
        "\n",
        "plt.xlabel('Year')\n",
        "plt.ylabel('Total cases')\n",
        "plt.title('Malaysia')\n",
        "plt.legend()\n",
        "plt.show()"
      ],
      "metadata": {
        "id": "jvy1UkDBMaAR"
      },
      "execution_count": null,
      "outputs": []
    },
    {
      "cell_type": "markdown",
      "source": [
        "This is EDA on Czechia to do feature selection\n"
      ],
      "metadata": {
        "id": "WsrljvkNMaAR"
      }
    },
    {
      "cell_type": "code",
      "source": [
        "plt.plot(df_Czechia['date'], df_Czechia['new_cases'], linestyle = \"-\", label = 'New Cases')\n",
        "\n",
        "\n",
        "plt.xlabel('Year')\n",
        "plt.ylabel('New cases')\n",
        "plt.title('Czechia')\n",
        "plt.legend()\n",
        "plt.show()"
      ],
      "metadata": {
        "id": "-7_yOGE-MaAS"
      },
      "execution_count": null,
      "outputs": []
    },
    {
      "cell_type": "code",
      "source": [
        "plt.plot(df_Czechia['date'], df_Czechia['new_cases_smoothed'], linestyle = \"-\", label = 'New Cases Smoothed')\n",
        "\n",
        "\n",
        "plt.xlabel('Year')\n",
        "plt.ylabel('New cases Smoothed')\n",
        "plt.title('Czechia')\n",
        "plt.legend()\n",
        "plt.show()"
      ],
      "metadata": {
        "id": "SNuMY1HbMaAS"
      },
      "execution_count": null,
      "outputs": []
    },
    {
      "cell_type": "code",
      "source": [
        "plt.plot(df_Czechia['date'], df_Czechia['total_cases'], linestyle = \"-\", label = 'Total Cases')\n",
        "\n",
        "\n",
        "plt.xlabel('Year')\n",
        "plt.ylabel('Total cases')\n",
        "plt.title('Czechia')\n",
        "plt.legend()\n",
        "plt.show()"
      ],
      "metadata": {
        "id": "rthO3zCmMaAS"
      },
      "execution_count": null,
      "outputs": []
    },
    {
      "cell_type": "code",
      "source": [
        "plt.plot(df_Australia['date'], df_Australia['new_cases'], linestyle = \"-\", label = 'New Cases')\n",
        "\n",
        "\n",
        "plt.xlabel('Year')\n",
        "plt.ylabel('New cases')\n",
        "plt.title('Australia')\n",
        "plt.legend()\n",
        "plt.show()\n"
      ],
      "metadata": {
        "id": "q42u9mlMMaAS"
      },
      "execution_count": null,
      "outputs": []
    },
    {
      "cell_type": "code",
      "source": [
        "plt.plot(df_Australia['date'], df_Australia['new_cases_smoothed'], linestyle = \"-\", label = 'New Cases Smoothed')\n",
        "\n",
        "\n",
        "plt.xlabel('Year')\n",
        "plt.ylabel('New cases Smoothed')\n",
        "plt.title('Australia')\n",
        "plt.legend()\n",
        "plt.show()"
      ],
      "metadata": {
        "id": "w1vWTrCjMaAS"
      },
      "execution_count": null,
      "outputs": []
    },
    {
      "cell_type": "code",
      "source": [
        "plt.plot(df_Australia['date'], df_Australia['total_cases'], linestyle = \"-\", label = 'Total Cases')\n",
        "\n",
        "\n",
        "plt.xlabel('Year')\n",
        "plt.ylabel('Total cases')\n",
        "plt.title('Australia')\n",
        "plt.legend()\n",
        "plt.show()\n"
      ],
      "metadata": {
        "id": "TO3nO1oUMaAT"
      },
      "execution_count": null,
      "outputs": []
    },
    {
      "cell_type": "code",
      "source": [
        "plt.plot(df_Canada['date'], df_Canada['new_cases'], linestyle = \"-\", label = 'New Cases')\n",
        "\n",
        "\n",
        "plt.xlabel('Year')\n",
        "plt.ylabel('New cases')\n",
        "plt.title('Canada')\n",
        "plt.legend()\n",
        "plt.show()"
      ],
      "metadata": {
        "id": "I35M4bA2MaAT"
      },
      "execution_count": null,
      "outputs": []
    },
    {
      "cell_type": "code",
      "source": [
        "plt.plot(df_Canada['date'], df_Canada['new_cases_smoothed'], linestyle = \"-\", label = 'New Cases Smoothed')\n",
        "\n",
        "\n",
        "plt.xlabel('Year')\n",
        "plt.ylabel('New cases Smoothed')\n",
        "plt.title('Canada')\n",
        "plt.legend()\n",
        "plt.show()"
      ],
      "metadata": {
        "id": "AlHq-tlNMaAU"
      },
      "execution_count": null,
      "outputs": []
    },
    {
      "cell_type": "code",
      "source": [
        "plt.plot(df_Canada['date'], df_Canada['total_cases'], linestyle = \"-\", label = 'Total Cases')\n",
        "\n",
        "\n",
        "plt.xlabel('Year')\n",
        "plt.ylabel('Total cases')\n",
        "plt.title('Canada')\n",
        "plt.legend()\n",
        "plt.show()"
      ],
      "metadata": {
        "id": "87z6J03nMaAU"
      },
      "execution_count": null,
      "outputs": []
    },
    {
      "cell_type": "code",
      "source": [
        "plt.plot(df_Chile['date'], df_Chile['new_cases'], linestyle = \"-\", label = 'New Cases')\n",
        "\n",
        "\n",
        "plt.xlabel('Year')\n",
        "plt.ylabel('New cases')\n",
        "plt.title('Chile')\n",
        "plt.legend()\n",
        "plt.show()"
      ],
      "metadata": {
        "id": "1XAnuILKMaAU"
      },
      "execution_count": null,
      "outputs": []
    },
    {
      "cell_type": "code",
      "source": [
        "plt.plot(df_Chile['date'], df_Chile['new_cases_smoothed'], linestyle = \"-\", label = 'New Cases Smoothed')\n",
        "\n",
        "\n",
        "plt.xlabel('Year')\n",
        "plt.ylabel('New cases Smoothed')\n",
        "plt.title('Chile')\n",
        "plt.legend()\n",
        "plt.show()"
      ],
      "metadata": {
        "id": "YYuKXamBMaAU"
      },
      "execution_count": null,
      "outputs": []
    },
    {
      "cell_type": "code",
      "source": [
        "plt.plot(df_Chile['date'], df_Chile['total_cases'], linestyle = \"-\", label = 'Total Cases')\n",
        "\n",
        "\n",
        "plt.xlabel('Year')\n",
        "plt.ylabel('Total cases')\n",
        "plt.title('Chile')\n",
        "plt.legend()\n",
        "plt.show()"
      ],
      "metadata": {
        "id": "9PYqSWFCMaAU"
      },
      "execution_count": null,
      "outputs": []
    },
    {
      "cell_type": "code",
      "source": [
        "plt.plot(df_SouthAfrica['date'], df_SouthAfrica['new_deaths'], linestyle = \"-\", label = 'New Deaths')\n",
        "\n",
        "\n",
        "plt.xlabel('Year')\n",
        "plt.ylabel('New Deaths')\n",
        "plt.title('South Africa')\n",
        "plt.legend()\n",
        "plt.show()"
      ],
      "metadata": {
        "id": "UswhW7ETMaAU"
      },
      "execution_count": null,
      "outputs": []
    },
    {
      "cell_type": "code",
      "source": [
        "plt.plot(df_SouthAfrica['date'], df_SouthAfrica['new_deaths_smoothed'], linestyle = \"-\", label = 'New Deaths Smoothed')\n",
        "\n",
        "\n",
        "plt.xlabel('Year')\n",
        "plt.ylabel('New Deaths Smoothed')\n",
        "plt.title('South Africa')\n",
        "plt.legend()\n",
        "plt.show()"
      ],
      "metadata": {
        "id": "QgJw3fhlMaAU"
      },
      "execution_count": null,
      "outputs": []
    },
    {
      "cell_type": "code",
      "source": [
        "plt.plot(df_SouthAfrica['date'], df_SouthAfrica['total_deaths'], linestyle = \"-\", label = 'Total Deaths')\n",
        "\n",
        "\n",
        "plt.xlabel('Year')\n",
        "plt.ylabel('Total Deaths')\n",
        "plt.title('South Africa')\n",
        "plt.legend()\n",
        "plt.show()"
      ],
      "metadata": {
        "id": "xGoGu1SzMaAU"
      },
      "execution_count": null,
      "outputs": []
    },
    {
      "cell_type": "code",
      "source": [
        "plt.plot(df_Malaysia['date'], df_Malaysia['new_deaths'], linestyle = \"-\", label = 'New Deaths')\n",
        "\n",
        "\n",
        "plt.xlabel('Year')\n",
        "plt.ylabel('New Deaths')\n",
        "plt.title('Malaysia')\n",
        "plt.legend()\n",
        "plt.show()"
      ],
      "metadata": {
        "id": "4jFuSLADMaAU"
      },
      "execution_count": null,
      "outputs": []
    },
    {
      "cell_type": "code",
      "source": [
        "plt.plot(df_Malaysia['date'], df_Malaysia['new_deaths_smoothed'], linestyle = \"-\", label = 'New Deaths Smoothed')\n",
        "\n",
        "\n",
        "plt.xlabel('Year')\n",
        "plt.ylabel('New Deaths Smoothed')\n",
        "plt.title('Malaysia')\n",
        "plt.legend()\n",
        "plt.show()"
      ],
      "metadata": {
        "id": "t13Ud-3bMaAU"
      },
      "execution_count": null,
      "outputs": []
    },
    {
      "cell_type": "code",
      "source": [
        "plt.plot(df_Malaysia['date'], df_Malaysia['total_deaths'], linestyle = \"-\", label = 'Total Deaths')\n",
        "\n",
        "\n",
        "plt.xlabel('Year')\n",
        "plt.ylabel('Total Deaths')\n",
        "plt.title('Malaysia')\n",
        "plt.legend()\n",
        "plt.show()"
      ],
      "metadata": {
        "id": "M40zhtG5MaAU"
      },
      "execution_count": null,
      "outputs": []
    },
    {
      "cell_type": "code",
      "source": [
        "plt.plot(df_Czechia['date'], df_Czechia['new_deaths'], linestyle = \"-\", label = 'New Deaths')\n",
        "\n",
        "\n",
        "plt.xlabel('Year')\n",
        "plt.ylabel('New Deaths')\n",
        "plt.title('Czechia')\n",
        "plt.legend()\n",
        "plt.show()"
      ],
      "metadata": {
        "id": "tTvxnjCkMaAV"
      },
      "execution_count": null,
      "outputs": []
    },
    {
      "cell_type": "code",
      "source": [
        "plt.plot(df_Czechia['date'], df_Czechia['new_deaths_smoothed'], linestyle = \"-\", label = 'New Deaths Smoothed')\n",
        "\n",
        "\n",
        "plt.xlabel('Year')\n",
        "plt.ylabel('New Deaths Smoothed')\n",
        "plt.title('Czechia')\n",
        "plt.legend()\n",
        "plt.show()"
      ],
      "metadata": {
        "id": "G6ju-p-uMaAV"
      },
      "execution_count": null,
      "outputs": []
    },
    {
      "cell_type": "code",
      "source": [
        "plt.plot(df_Czechia['date'], df_Czechia['total_deaths'], linestyle = \"-\", label = 'Total Deaths')\n",
        "\n",
        "\n",
        "plt.xlabel('Year')\n",
        "plt.ylabel('Total Deaths')\n",
        "plt.title('Czechia')\n",
        "plt.legend()\n",
        "plt.show()"
      ],
      "metadata": {
        "id": "kK4HTzEZMaAV"
      },
      "execution_count": null,
      "outputs": []
    },
    {
      "cell_type": "code",
      "source": [
        "plt.plot(df_Australia['date'], df_Australia['new_deaths'], linestyle = \"-\", label = 'New Deaths')\n",
        "\n",
        "\n",
        "plt.xlabel('Year')\n",
        "plt.ylabel('New Deaths')\n",
        "plt.title('Australia')\n",
        "plt.legend()\n",
        "plt.show()"
      ],
      "metadata": {
        "id": "aZ8TVyvaMaAV"
      },
      "execution_count": null,
      "outputs": []
    },
    {
      "cell_type": "code",
      "source": [
        "plt.plot(df_Australia['date'], df_Australia['new_deaths_smoothed'], linestyle = \"-\", label = 'New Deaths Smoothed')\n",
        "\n",
        "\n",
        "plt.xlabel('Year')\n",
        "plt.ylabel('New Deaths Smoothed')\n",
        "plt.title('Australia')\n",
        "plt.legend()\n",
        "plt.show()"
      ],
      "metadata": {
        "id": "xZa8gusFMaAV"
      },
      "execution_count": null,
      "outputs": []
    },
    {
      "cell_type": "code",
      "source": [
        "plt.plot(df_Australia['date'], df_Australia['total_deaths'], linestyle = \"-\", label = 'Total Deaths')\n",
        "\n",
        "\n",
        "plt.xlabel('Year')\n",
        "plt.ylabel('Total Deaths')\n",
        "plt.title('Australia')\n",
        "plt.legend()\n",
        "plt.show()"
      ],
      "metadata": {
        "id": "6GivjE4tMaAV"
      },
      "execution_count": null,
      "outputs": []
    },
    {
      "cell_type": "code",
      "source": [
        "plt.plot(df_Canada['date'], df_Canada['new_deaths'], linestyle = \"-\", label = 'New Deaths')\n",
        "\n",
        "\n",
        "plt.xlabel('Year')\n",
        "plt.ylabel('New Deaths')\n",
        "plt.title('Canada')\n",
        "plt.legend()\n",
        "plt.show()"
      ],
      "metadata": {
        "id": "0tg5P-IKMaAV"
      },
      "execution_count": null,
      "outputs": []
    },
    {
      "cell_type": "code",
      "source": [
        "plt.plot(df_Canada['date'], df_Canada['new_deaths_smoothed'], linestyle = \"-\", label = 'New Deaths Smoothed')\n",
        "\n",
        "\n",
        "plt.xlabel('Year')\n",
        "plt.ylabel('New Deaths Smoothed')\n",
        "plt.title('Canada')\n",
        "plt.legend()"
      ],
      "metadata": {
        "id": "YokLA4VAMaAV"
      },
      "execution_count": null,
      "outputs": []
    },
    {
      "cell_type": "code",
      "source": [
        "plt.plot(df_Canada['date'], df_Canada['total_deaths'], linestyle = \"-\", label = 'Total Deaths')\n",
        "\n",
        "\n",
        "plt.xlabel('Year')\n",
        "plt.ylabel('Total Deaths')\n",
        "plt.title('Canada')\n",
        "plt.legend()\n",
        "plt.show()"
      ],
      "metadata": {
        "id": "4TsKROZBMaAV"
      },
      "execution_count": null,
      "outputs": []
    },
    {
      "cell_type": "code",
      "source": [
        "plt.plot(df_Chile['date'], df_Chile['new_deaths'], linestyle = \"-\", label = 'New Deaths')\n",
        "\n",
        "\n",
        "plt.xlabel('Year')\n",
        "plt.ylabel('New Deaths')\n",
        "plt.title('Chile')\n",
        "plt.legend()\n",
        "plt.show()"
      ],
      "metadata": {
        "id": "kAyslBijMaAV"
      },
      "execution_count": null,
      "outputs": []
    },
    {
      "cell_type": "code",
      "source": [
        "plt.plot(df_Chile['date'], df_Chile['new_deaths_smoothed'], linestyle = \"-\", label = 'New Deaths Smoothed')\n",
        "\n",
        "\n",
        "plt.xlabel('Year')\n",
        "plt.ylabel('New Deaths Smoothed')\n",
        "plt.title('Chile')\n",
        "plt.legend()\n",
        "plt.show()"
      ],
      "metadata": {
        "id": "fsp0nlmEMaAV"
      },
      "execution_count": null,
      "outputs": []
    },
    {
      "cell_type": "code",
      "source": [
        "plt.plot(df_Chile['date'], df_Chile['total_deaths'], linestyle = \"-\", label = 'Total Deaths')\n",
        "\n",
        "\n",
        "plt.xlabel('Year')\n",
        "plt.ylabel('Total Deaths')\n",
        "plt.title('Chile')\n",
        "plt.legend()\n",
        "plt.show()"
      ],
      "metadata": {
        "id": "FAjBBQe8MaAW"
      },
      "execution_count": null,
      "outputs": []
    },
    {
      "cell_type": "code",
      "source": [
        "plt.plot(df_SouthAfrica['date'], df_SouthAfrica['new_cases_per_million'], linestyle = \"-\", label = 'New Cases per Million')\n",
        "\n",
        "\n",
        "plt.xlabel('Year')\n",
        "plt.ylabel('New Cases per Million')\n",
        "plt.title('South Africa')\n",
        "plt.legend()\n",
        "plt.show()"
      ],
      "metadata": {
        "id": "KkaJyKq9MaAW"
      },
      "execution_count": null,
      "outputs": []
    },
    {
      "cell_type": "code",
      "source": [
        "plt.plot(df_SouthAfrica['date'], df_SouthAfrica['new_deaths_per_million'], linestyle = \"-\", label = 'New Deaths per Million')\n",
        "\n",
        "\n",
        "plt.xlabel('Year')\n",
        "plt.ylabel('New Deaths per Million')\n",
        "plt.title('South Africa')\n",
        "plt.legend()\n",
        "plt.show()"
      ],
      "metadata": {
        "id": "rEQfOeFkMaAW"
      },
      "execution_count": null,
      "outputs": []
    },
    {
      "cell_type": "code",
      "source": [
        "plt.plot(df_Malaysia['date'], df_Malaysia['new_cases_per_million'], linestyle = \"-\", label = 'New Cases per Million')\n",
        "\n",
        "\n",
        "plt.xlabel('Year')\n",
        "plt.ylabel('New Cases per Million')\n",
        "plt.title('Malaysia')\n",
        "plt.legend()\n",
        "plt.show()"
      ],
      "metadata": {
        "id": "vy423PiJMaAW"
      },
      "execution_count": null,
      "outputs": []
    },
    {
      "cell_type": "code",
      "source": [
        "plt.plot(df_Malaysia['date'], df_Malaysia['new_deaths_per_million'], linestyle = \"-\", label = 'New Deaths per Million')\n",
        "\n",
        "\n",
        "plt.xlabel('Year')\n",
        "plt.ylabel('New Deaths per Million')\n",
        "plt.title('Malaysia')\n",
        "plt.legend()\n",
        "plt.show()"
      ],
      "metadata": {
        "id": "AeV_9x1ZMaAW"
      },
      "execution_count": null,
      "outputs": []
    },
    {
      "cell_type": "code",
      "source": [
        "plt.plot(df_Czechia['date'], df_Czechia['new_cases_per_million'], linestyle = \"-\", label = 'New Cases per Million')\n",
        "\n",
        "\n",
        "plt.xlabel('Year')\n",
        "plt.ylabel('New Cases per Million')\n",
        "plt.title('Czechia')\n",
        "plt.legend()"
      ],
      "metadata": {
        "id": "o6XR9OTXMaAW"
      },
      "execution_count": null,
      "outputs": []
    },
    {
      "cell_type": "code",
      "source": [
        "plt.plot(df_Czechia['date'], df_Czechia['new_deaths_per_million'], linestyle = \"-\", label = 'New Deaths per Million')\n",
        "\n",
        "\n",
        "plt.xlabel('Year')\n",
        "plt.ylabel('New Deaths per Million')\n",
        "plt.title('Czechia')\n",
        "plt.legend()\n",
        "plt.show()\n"
      ],
      "metadata": {
        "id": "vTs6K_86MaAW"
      },
      "execution_count": null,
      "outputs": []
    },
    {
      "cell_type": "code",
      "source": [
        "plt.plot(df_Australia['date'], df_Australia['new_cases_per_million'], linestyle = \"-\", label = 'New Cases per Million')\n",
        "\n",
        "\n",
        "plt.xlabel('Year')\n",
        "plt.ylabel('New Cases per Million')\n",
        "plt.title('Australia')\n",
        "plt.legend()\n",
        "plt.show()"
      ],
      "metadata": {
        "id": "SC1t9dOwMaAW"
      },
      "execution_count": null,
      "outputs": []
    },
    {
      "cell_type": "code",
      "source": [
        "plt.plot(df_Australia['date'], df_Australia['new_deaths_per_million'], linestyle = \"-\", label = 'New Deaths per Million')\n",
        "\n",
        "\n",
        "plt.xlabel('Year')\n",
        "plt.ylabel('New Deaths per Million')\n",
        "plt.title('Australia')\n",
        "plt.legend()\n",
        "plt.show()\n"
      ],
      "metadata": {
        "id": "FE8EHbPeMaAW"
      },
      "execution_count": null,
      "outputs": []
    },
    {
      "cell_type": "code",
      "source": [
        "plt.plot(df_Canada['date'], df_Canada['new_cases_per_million'], linestyle = \"-\", label = 'New Cases per Million')\n",
        "\n",
        "\n",
        "plt.xlabel('Year')\n",
        "plt.ylabel('New Cases per Million')\n",
        "plt.title('Canada')\n",
        "plt.legend()\n",
        "plt.show()"
      ],
      "metadata": {
        "id": "SikP5bQxMaAW"
      },
      "execution_count": null,
      "outputs": []
    },
    {
      "cell_type": "code",
      "source": [
        "plt.plot(df_Canada['date'], df_Canada['new_deaths_per_million'], linestyle = \"-\", label = 'New Deaths per Million')\n",
        "\n",
        "\n",
        "plt.xlabel('Year')\n",
        "plt.ylabel('New Deaths per Million')\n",
        "plt.title('Canada')\n",
        "plt.legend()\n",
        "plt.show()"
      ],
      "metadata": {
        "id": "FsdDHxWKMaAW"
      },
      "execution_count": null,
      "outputs": []
    },
    {
      "cell_type": "code",
      "source": [
        "plt.plot(df_Chile['date'], df_Chile['new_cases_per_million'], linestyle = \"-\", label = 'New Cases per Million')\n",
        "\n",
        "\n",
        "plt.xlabel('Year')\n",
        "plt.ylabel('New Cases per Million')\n",
        "plt.title('Chile')\n",
        "plt.legend()\n",
        "plt.show()"
      ],
      "metadata": {
        "id": "5j6y7dWtMaAW"
      },
      "execution_count": null,
      "outputs": []
    },
    {
      "cell_type": "code",
      "source": [
        "plt.plot(df_Chile['date'], df_Chile['new_deaths_per_million'], linestyle = \"-\", label = 'New Deaths per Million')\n",
        "\n",
        "\n",
        "plt.xlabel('Year')\n",
        "plt.ylabel('New Deaths per Million')\n",
        "plt.title('Chile')\n",
        "plt.legend()\n",
        "plt.show()"
      ],
      "metadata": {
        "id": "colP_rbfMaAX"
      },
      "execution_count": null,
      "outputs": []
    }
  ]
}